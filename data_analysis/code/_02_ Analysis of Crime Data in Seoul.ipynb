{
 "cells": [
  {
   "cell_type": "markdown",
   "metadata": {},
   "source": [
    "# 목적 : 강남 3구의 체감 안전도가 높다는 기사를 검증"
   ]
  },
  {
   "cell_type": "code",
   "execution_count": 1,
   "metadata": {},
   "outputs": [],
   "source": [
    "#to get multiple outputs\n",
    "from IPython.core.interactiveshell import InteractiveShell\n",
    "InteractiveShell.ast_node_interactivity = \"all\""
   ]
  },
  {
   "cell_type": "code",
   "execution_count": 2,
   "metadata": {},
   "outputs": [],
   "source": [
    "import numpy as np\n",
    "import pandas as pd"
   ]
  },
  {
   "cell_type": "code",
   "execution_count": 3,
   "metadata": {},
   "outputs": [
    {
     "data": {
      "text/html": [
       "<div>\n",
       "<style scoped>\n",
       "    .dataframe tbody tr th:only-of-type {\n",
       "        vertical-align: middle;\n",
       "    }\n",
       "\n",
       "    .dataframe tbody tr th {\n",
       "        vertical-align: top;\n",
       "    }\n",
       "\n",
       "    .dataframe thead th {\n",
       "        text-align: right;\n",
       "    }\n",
       "</style>\n",
       "<table border=\"1\" class=\"dataframe\">\n",
       "  <thead>\n",
       "    <tr style=\"text-align: right;\">\n",
       "      <th></th>\n",
       "      <th>관서명</th>\n",
       "      <th>살인 발생</th>\n",
       "      <th>살인 검거</th>\n",
       "      <th>강도 발생</th>\n",
       "      <th>강도 검거</th>\n",
       "      <th>강간 발생</th>\n",
       "      <th>강간 검거</th>\n",
       "      <th>절도 발생</th>\n",
       "      <th>절도 검거</th>\n",
       "      <th>폭력 발생</th>\n",
       "      <th>폭력 검거</th>\n",
       "    </tr>\n",
       "  </thead>\n",
       "  <tbody>\n",
       "    <tr>\n",
       "      <th>0</th>\n",
       "      <td>중부서</td>\n",
       "      <td>2</td>\n",
       "      <td>2</td>\n",
       "      <td>3</td>\n",
       "      <td>2</td>\n",
       "      <td>105</td>\n",
       "      <td>65</td>\n",
       "      <td>1395</td>\n",
       "      <td>477</td>\n",
       "      <td>1355</td>\n",
       "      <td>1170</td>\n",
       "    </tr>\n",
       "    <tr>\n",
       "      <th>1</th>\n",
       "      <td>종로서</td>\n",
       "      <td>3</td>\n",
       "      <td>3</td>\n",
       "      <td>6</td>\n",
       "      <td>5</td>\n",
       "      <td>115</td>\n",
       "      <td>98</td>\n",
       "      <td>1070</td>\n",
       "      <td>413</td>\n",
       "      <td>1278</td>\n",
       "      <td>1070</td>\n",
       "    </tr>\n",
       "    <tr>\n",
       "      <th>2</th>\n",
       "      <td>남대문서</td>\n",
       "      <td>1</td>\n",
       "      <td>0</td>\n",
       "      <td>6</td>\n",
       "      <td>4</td>\n",
       "      <td>65</td>\n",
       "      <td>46</td>\n",
       "      <td>1153</td>\n",
       "      <td>382</td>\n",
       "      <td>869</td>\n",
       "      <td>794</td>\n",
       "    </tr>\n",
       "    <tr>\n",
       "      <th>3</th>\n",
       "      <td>서대문서</td>\n",
       "      <td>2</td>\n",
       "      <td>2</td>\n",
       "      <td>5</td>\n",
       "      <td>4</td>\n",
       "      <td>154</td>\n",
       "      <td>124</td>\n",
       "      <td>1812</td>\n",
       "      <td>738</td>\n",
       "      <td>2056</td>\n",
       "      <td>1711</td>\n",
       "    </tr>\n",
       "    <tr>\n",
       "      <th>4</th>\n",
       "      <td>혜화서</td>\n",
       "      <td>3</td>\n",
       "      <td>2</td>\n",
       "      <td>5</td>\n",
       "      <td>4</td>\n",
       "      <td>96</td>\n",
       "      <td>63</td>\n",
       "      <td>1114</td>\n",
       "      <td>424</td>\n",
       "      <td>1015</td>\n",
       "      <td>861</td>\n",
       "    </tr>\n",
       "  </tbody>\n",
       "</table>\n",
       "</div>"
      ],
      "text/plain": [
       "    관서명  살인 발생  살인 검거  강도 발생  강도 검거  강간 발생  강간 검거  절도 발생  절도 검거  폭력 발생  폭력 검거\n",
       "0   중부서      2      2      3      2    105     65   1395    477   1355   1170\n",
       "1   종로서      3      3      6      5    115     98   1070    413   1278   1070\n",
       "2  남대문서      1      0      6      4     65     46   1153    382    869    794\n",
       "3  서대문서      2      2      5      4    154    124   1812    738   2056   1711\n",
       "4   혜화서      3      2      5      4     96     63   1114    424   1015    861"
      ]
     },
     "execution_count": 3,
     "metadata": {},
     "output_type": "execute_result"
    }
   ],
   "source": [
    "crime_data_police = pd.read_csv('../data/02. crime_in_Seoul.csv', thousands=',', encoding = 'euc-kr') \n",
    "                                                                                #encoding = cp949도 가능\n",
    "crime_data_police.head()"
   ]
  },
  {
   "cell_type": "code",
   "execution_count": 4,
   "metadata": {},
   "outputs": [
    {
     "data": {
      "text/plain": [
       "['서울중부경찰서',\n",
       " '서울종로경찰서',\n",
       " '서울남대문경찰서',\n",
       " '서울서대문경찰서',\n",
       " '서울혜화경찰서',\n",
       " '서울용산경찰서',\n",
       " '서울성북경찰서',\n",
       " '서울동대문경찰서',\n",
       " '서울마포경찰서',\n",
       " '서울영등포경찰서',\n",
       " '서울성동경찰서',\n",
       " '서울동작경찰서',\n",
       " '서울광진경찰서',\n",
       " '서울서부경찰서',\n",
       " '서울강북경찰서',\n",
       " '서울금천경찰서',\n",
       " '서울중랑경찰서',\n",
       " '서울강남경찰서',\n",
       " '서울관악경찰서',\n",
       " '서울강서경찰서',\n",
       " '서울강동경찰서',\n",
       " '서울종암경찰서',\n",
       " '서울구로경찰서',\n",
       " '서울서초경찰서',\n",
       " '서울양천경찰서',\n",
       " '서울송파경찰서',\n",
       " '서울노원경찰서',\n",
       " '서울방배경찰서',\n",
       " '서울은평경찰서',\n",
       " '서울도봉경찰서',\n",
       " '서울수서경찰서']"
      ]
     },
     "execution_count": 4,
     "metadata": {},
     "output_type": "execute_result"
    }
   ],
   "source": [
    "# 관서명을 '서울**경찰서'로 바꾸기 \n",
    "\n",
    "station_name = []\n",
    "\n",
    "for name in crime_data_police['관서명']:\n",
    "    station_name.append('서울'+ str(name[:-1])+'경찰서')\n",
    "\n",
    "station_name"
   ]
  },
  {
   "cell_type": "markdown",
   "metadata": {},
   "source": [
    "## 경찰서 목록을 소속 구별로 변경하기 "
   ]
  },
  {
   "cell_type": "code",
   "execution_count": 5,
   "metadata": {},
   "outputs": [],
   "source": [
    "# 1. 경찰서 이름으로 구 정보를 알아야 함.  - Google Maps 활용해서 주소와 위도, 경도 정보 얻기 \n",
    "import googlemaps "
   ]
  },
  {
   "cell_type": "code",
   "execution_count": 6,
   "metadata": {},
   "outputs": [],
   "source": [
    "gmaps_key = \"****************************\" #google maps API에서 받은 key값\n",
    "gmaps = googlemaps.Client(key=gmaps_key)"
   ]
  },
  {
   "cell_type": "code",
   "execution_count": 7,
   "metadata": {},
   "outputs": [],
   "source": [
    "example = gmaps.geocode('서울중부경찰서', language = 'ko')  #return list. "
   ]
  },
  {
   "cell_type": "code",
   "execution_count": 8,
   "metadata": {},
   "outputs": [
    {
     "data": {
      "text/plain": [
       "list"
      ]
     },
     "execution_count": 8,
     "metadata": {},
     "output_type": "execute_result"
    },
    {
     "data": {
      "text/plain": [
       "1"
      ]
     },
     "execution_count": 8,
     "metadata": {},
     "output_type": "execute_result"
    },
    {
     "data": {
      "text/plain": [
       "[{'address_components': [{'long_name': '２７',\n",
       "    'short_name': '２７',\n",
       "    'types': ['premise']},\n",
       "   {'long_name': '수표로',\n",
       "    'short_name': '수표로',\n",
       "    'types': ['political', 'sublocality', 'sublocality_level_4']},\n",
       "   {'long_name': '을지로동',\n",
       "    'short_name': '을지로동',\n",
       "    'types': ['political', 'sublocality', 'sublocality_level_2']},\n",
       "   {'long_name': '중구',\n",
       "    'short_name': '중구',\n",
       "    'types': ['political', 'sublocality', 'sublocality_level_1']},\n",
       "   {'long_name': '서울특별시',\n",
       "    'short_name': '서울특별시',\n",
       "    'types': ['administrative_area_level_1', 'political']},\n",
       "   {'long_name': '대한민국',\n",
       "    'short_name': 'KR',\n",
       "    'types': ['country', 'political']},\n",
       "   {'long_name': '100-032',\n",
       "    'short_name': '100-032',\n",
       "    'types': ['postal_code']}],\n",
       "  'formatted_address': '대한민국 서울특별시 중구 을지로동 수표로 27',\n",
       "  'geometry': {'location': {'lat': 37.5636465, 'lng': 126.9895796},\n",
       "   'location_type': 'ROOFTOP',\n",
       "   'viewport': {'northeast': {'lat': 37.56499548029149,\n",
       "     'lng': 126.9909285802915},\n",
       "    'southwest': {'lat': 37.56229751970849, 'lng': 126.9882306197085}}},\n",
       "  'place_id': 'ChIJc-9q5uSifDURLhQmr5wkXmc',\n",
       "  'plus_code': {'compound_code': 'HX7Q+FR 대한민국 서울특별시',\n",
       "   'global_code': '8Q98HX7Q+FR'},\n",
       "  'types': ['establishment', 'point_of_interest', 'police']}]"
      ]
     },
     "execution_count": 8,
     "metadata": {},
     "output_type": "execute_result"
    },
    {
     "data": {
      "text/plain": [
       "{'address_components': [{'long_name': '２７',\n",
       "   'short_name': '２７',\n",
       "   'types': ['premise']},\n",
       "  {'long_name': '수표로',\n",
       "   'short_name': '수표로',\n",
       "   'types': ['political', 'sublocality', 'sublocality_level_4']},\n",
       "  {'long_name': '을지로동',\n",
       "   'short_name': '을지로동',\n",
       "   'types': ['political', 'sublocality', 'sublocality_level_2']},\n",
       "  {'long_name': '중구',\n",
       "   'short_name': '중구',\n",
       "   'types': ['political', 'sublocality', 'sublocality_level_1']},\n",
       "  {'long_name': '서울특별시',\n",
       "   'short_name': '서울특별시',\n",
       "   'types': ['administrative_area_level_1', 'political']},\n",
       "  {'long_name': '대한민국', 'short_name': 'KR', 'types': ['country', 'political']},\n",
       "  {'long_name': '100-032', 'short_name': '100-032', 'types': ['postal_code']}],\n",
       " 'formatted_address': '대한민국 서울특별시 중구 을지로동 수표로 27',\n",
       " 'geometry': {'location': {'lat': 37.5636465, 'lng': 126.9895796},\n",
       "  'location_type': 'ROOFTOP',\n",
       "  'viewport': {'northeast': {'lat': 37.56499548029149,\n",
       "    'lng': 126.9909285802915},\n",
       "   'southwest': {'lat': 37.56229751970849, 'lng': 126.9882306197085}}},\n",
       " 'place_id': 'ChIJc-9q5uSifDURLhQmr5wkXmc',\n",
       " 'plus_code': {'compound_code': 'HX7Q+FR 대한민국 서울특별시',\n",
       "  'global_code': '8Q98HX7Q+FR'},\n",
       " 'types': ['establishment', 'point_of_interest', 'police']}"
      ]
     },
     "execution_count": 8,
     "metadata": {},
     "output_type": "execute_result"
    }
   ],
   "source": [
    "type(example)\n",
    "len(example)\n",
    "example\n",
    "example[0] #1번재 꺼는 list. example 자체는 list"
   ]
  },
  {
   "cell_type": "code",
   "execution_count": null,
   "metadata": {},
   "outputs": [],
   "source": [
    "# print(\"\\n1\")\n",
    "# example[0].get(\"formatted_address\")  #example 리스트의 첫번째 인수인 딕셔너리에서 키값이 formatted_address인 value를 불러와라. \n",
    "# example[0][\"formatted_address\"]\n",
    "\n",
    "# print(\"\\n2\")\n",
    "# type(example[0][\"address_components\"]) \n",
    "# example[0].get(\"address_components\")\n",
    "# example[0][\"address_components\"]\n",
    "\n",
    "# print(\"\\n3\")\n",
    "# #address_components 의 value값이 또 딕셔너리로 구성된 리스트임. 그래서 그 안에 있는걸 부르려면, 다시 인덱스 지정해줘야. \n",
    "# example[0].get(\"address_components\")[1]\n",
    "# example[0][\"address_components\"][1]\n",
    "\n",
    "# print(\"\\n4\")\n",
    "# example[0].get(\"address_components\")[1].get(\"long_name\")\n",
    "# example[0][\"address_components\"][1]['long_name']\n",
    "\n",
    "# print(\"\\n5\")\n",
    "# example[0][\"geometry\"]\n",
    "# example[0][\"geometry\"]['location']['lat']"
   ]
  },
  {
   "cell_type": "code",
   "execution_count": 9,
   "metadata": {},
   "outputs": [
    {
     "name": "stdout",
     "output_type": "stream",
     "text": [
      "\n",
      " 서울중부경찰서 :  대한민국 서울특별시 중구 을지로동 수표로 27\n",
      "\n",
      " lat: 37.5636465, lng: 126.9895796 \n",
      "\n",
      "\n",
      " 서울종로경찰서 :  대한민국 서울특별시 종로구 종로1.2.3.4가동 율곡로 46\n",
      "\n",
      " lat: 37.5755578, lng: 126.9848674 \n",
      "\n",
      "\n",
      " 서울남대문경찰서 :  대한민국 서울특별시 중구 회현동 한강대로 410\n",
      "\n",
      " lat: 37.5547584, lng: 126.9734981 \n",
      "\n",
      "\n",
      " 서울서대문경찰서 :  대한민국 서울특별시 서대문구 충현동 통일로 113\n",
      "\n",
      " lat: 37.5647848, lng: 126.9667762 \n",
      "\n",
      "\n",
      " 서울혜화경찰서 :  대한민국 서울특별시 종로구 인의동 창경궁로 112-16\n",
      "\n",
      " lat: 37.5718529, lng: 126.9989143 \n",
      "\n",
      "\n",
      " 서울용산경찰서 :  대한민국 서울특별시 용산구 원효로1가 백범로 329\n",
      "\n",
      " lat: 37.5387099, lng: 126.9659183 \n",
      "\n",
      "\n",
      " 서울성북경찰서 :  대한민국 서울특별시 성북구 삼선동5가 301\n",
      "\n",
      " lat: 37.5897482, lng: 127.0161353 \n",
      "\n",
      "\n",
      " 서울동대문경찰서 :  대한민국 서울특별시 동대문구 청량리동 약령시로21길 29\n",
      "\n",
      " lat: 37.58506149999999, lng: 127.0457679 \n",
      "\n",
      "\n",
      " 서울마포경찰서 :  대한민국 서울특별시 마포구 아현동 618-1\n",
      "\n",
      " lat: 37.550814, lng: 126.954028 \n",
      "\n",
      "\n",
      " 서울영등포경찰서 :  대한민국 서울특별시 영등포구 영등포동 영등포로46길 14\n",
      "\n",
      " lat: 37.5179839, lng: 126.9075056 \n",
      "\n",
      "\n",
      " 서울성동경찰서 :  대한민국 서울특별시 성동구 행당동 왕십리광장로 9\n",
      "\n",
      " lat: 37.5617309, lng: 127.0363806 \n",
      "\n",
      "\n",
      " 서울동작경찰서 :  대한민국 서울특별시 동작구 노량진1동 노량진로 148\n",
      "\n",
      " lat: 37.5130866, lng: 126.9428498 \n",
      "\n",
      "\n",
      " 서울광진경찰서 :  대한민국 서울특별시 광진구 구의동 자양로 167\n",
      "\n",
      " lat: 37.542873, lng: 127.083821 \n",
      "\n",
      "\n",
      " 서울서부경찰서 :  대한민국 서울특별시 은평구 대조동 통일로 757\n",
      "\n",
      " lat: 37.6128611, lng: 126.9274951 \n",
      "\n",
      "\n",
      " 서울강북경찰서 :  대한민국 서울특별시 강북구 번1동 오패산로 406\n",
      "\n",
      " lat: 37.63730390000001, lng: 127.0273399 \n",
      "\n",
      "\n",
      " 서울금천경찰서 :  대한민국 서울특별시 금천구 시흥동 190\n",
      "\n",
      " lat: 37.4568722, lng: 126.8970429 \n",
      "\n",
      "\n",
      " 서울중랑경찰서 :  대한민국 서울특별시 중랑구 신내1동 신내역로3길 40-10\n",
      "\n",
      " lat: 37.618692, lng: 127.1047136 \n",
      "\n",
      "\n",
      " 서울강남경찰서 :  대한민국 서울특별시 강남구 대치동 998\n",
      "\n",
      " lat: 37.5094352, lng: 127.0669578 \n",
      "\n",
      "\n",
      " 서울관악경찰서 :  대한민국 서울특별시 관악구 봉천동\n",
      "\n",
      " lat: 37.4743789, lng: 126.9509748 \n",
      "\n",
      "\n",
      " 서울강서경찰서 :  대한민국 서울특별시 양천구 신월동 화곡로 73\n",
      "\n",
      " lat: 37.5397827, lng: 126.8299968 \n",
      "\n",
      "\n",
      " 서울강동경찰서 :  대한민국 서울특별시 강동구 성내1동 성내로 57\n",
      "\n",
      " lat: 37.528511, lng: 127.1268224 \n",
      "\n",
      "\n",
      " 서울종암경찰서 :  대한민국 서울특별시 성북구 종암동 종암로 135\n",
      "\n",
      " lat: 37.6020592, lng: 127.0321577 \n",
      "\n",
      "\n",
      " 서울구로경찰서 :  대한민국 서울특별시 구로구 가마산로 235\n",
      "\n",
      " lat: 37.494931, lng: 126.886731 \n",
      "\n",
      "\n",
      " 서울서초경찰서 :  대한민국 서울특별시 서초구 서초3동 반포대로 179\n",
      "\n",
      " lat: 37.4956054, lng: 127.0052504 \n",
      "\n",
      "\n",
      " 서울양천경찰서 :  대한민국 서울특별시 양천구 신정6동 목동동로 99\n",
      "\n",
      " lat: 37.5165667, lng: 126.8656763 \n",
      "\n",
      "\n",
      " 서울송파경찰서 :  대한민국 서울특별시 송파구 가락본동 9\n",
      "\n",
      " lat: 37.5019065, lng: 127.1271513 \n",
      "\n",
      "\n",
      " 서울노원경찰서 :  대한민국 서울특별시 노원구 하계동 노원로 283\n",
      "\n",
      " lat: 37.6423605, lng: 127.0714027 \n",
      "\n",
      "\n",
      " 서울방배경찰서 :  대한민국 서울특별시 서초구 방배본동 동작대로 204\n",
      "\n",
      " lat: 37.4945959, lng: 126.9831279 \n",
      "\n",
      "\n",
      " 서울은평경찰서 :  대한민국 서울특별시 은평구 불광동 연서로 365\n",
      "\n",
      " lat: 37.6283597, lng: 126.9287226 \n",
      "\n",
      "\n",
      " 서울도봉경찰서 :  대한민국 서울특별시 도봉구 창4동 노해로 403\n",
      "\n",
      " lat: 37.6533589, lng: 127.052682 \n",
      "\n",
      "\n",
      " 서울수서경찰서 :  대한민국 서울특별시 강남구 개포동 개포로 617\n",
      "\n",
      " lat: 37.49349, lng: 127.0772119 \n",
      "\n"
     ]
    }
   ],
   "source": [
    "#google maps API 사용하여 해당 경찰서 이름을 이용하여 주소 받아오기 \n",
    "\n",
    "station_address = []\n",
    "station_lat = []\n",
    "station_lng = []\n",
    "\n",
    "for name in station_name: \n",
    "    geoData = gmaps.geocode(name, language = 'ko')\n",
    "    \n",
    "    station_address.append(geoData[0]['formatted_address'])\n",
    "    \n",
    "    tmp_loc = geoData[0]['geometry']['location']\n",
    "    \n",
    "    station_lat.append(tmp_loc['lat'])\n",
    "    station_lng.append(tmp_loc['lng'])\n",
    "    \n",
    "    print(\"\\n\",name,\": \",geoData[0]['formatted_address'])\n",
    "    print(\"\\n lat: {}, lng: {} \\n\".format(tmp_loc['lat'],tmp_loc['lng']))\n",
    "    \n",
    "\n"
   ]
  },
  {
   "cell_type": "code",
   "execution_count": null,
   "metadata": {},
   "outputs": [],
   "source": [
    "station_address"
   ]
  },
  {
   "cell_type": "code",
   "execution_count": null,
   "metadata": {},
   "outputs": [],
   "source": [
    "station_lat"
   ]
  },
  {
   "cell_type": "code",
   "execution_count": null,
   "metadata": {},
   "outputs": [],
   "source": [
    "station_lng"
   ]
  },
  {
   "cell_type": "code",
   "execution_count": 10,
   "metadata": {},
   "outputs": [
    {
     "data": {
      "text/plain": [
       "['중구',\n",
       " '종로구',\n",
       " '중구',\n",
       " '서대문구',\n",
       " '종로구',\n",
       " '용산구',\n",
       " '성북구',\n",
       " '동대문구',\n",
       " '마포구',\n",
       " '영등포구',\n",
       " '성동구',\n",
       " '동작구',\n",
       " '광진구',\n",
       " '은평구',\n",
       " '강북구',\n",
       " '금천구',\n",
       " '중랑구',\n",
       " '강남구',\n",
       " '관악구',\n",
       " '양천구',\n",
       " '강동구',\n",
       " '성북구',\n",
       " '구로구',\n",
       " '서초구',\n",
       " '양천구',\n",
       " '송파구',\n",
       " '노원구',\n",
       " '서초구',\n",
       " '은평구',\n",
       " '도봉구',\n",
       " '강남구']"
      ]
     },
     "execution_count": 10,
     "metadata": {},
     "output_type": "execute_result"
    }
   ],
   "source": [
    "gu_name = []\n",
    "\n",
    "for name in station_address:\n",
    "    tmp = name.split()    #space를 기준으로 띄워서 저장\n",
    "#     tmp\n",
    "    \n",
    "    tmp_gu = [gu for gu in tmp if gu[-1]=='구'][0]       \n",
    "    # [0]이 없을 경우 ['중구']형태로 프린트됨. 왜? tem_gu가 list니까. 근데 나는 '중구' 만 리스트에 넣고싶으므로 인덱스 사용\n",
    "    gu_name.append(tmp_gu)\n",
    "\n",
    "gu_name\n",
    "# # [출력표현식 for 요소 in 입력Sequence [if 조건식]]\n",
    "#     for gu in tmp:\n",
    "#         if gu[-1]=='구':\n",
    "#             gu_name.append(gu)\n"
   ]
  },
  {
   "cell_type": "code",
   "execution_count": 11,
   "metadata": {},
   "outputs": [
    {
     "data": {
      "text/html": [
       "<div>\n",
       "<style scoped>\n",
       "    .dataframe tbody tr th:only-of-type {\n",
       "        vertical-align: middle;\n",
       "    }\n",
       "\n",
       "    .dataframe tbody tr th {\n",
       "        vertical-align: top;\n",
       "    }\n",
       "\n",
       "    .dataframe thead th {\n",
       "        text-align: right;\n",
       "    }\n",
       "</style>\n",
       "<table border=\"1\" class=\"dataframe\">\n",
       "  <thead>\n",
       "    <tr style=\"text-align: right;\">\n",
       "      <th></th>\n",
       "      <th>관서명</th>\n",
       "      <th>살인 발생</th>\n",
       "      <th>살인 검거</th>\n",
       "      <th>강도 발생</th>\n",
       "      <th>강도 검거</th>\n",
       "      <th>강간 발생</th>\n",
       "      <th>강간 검거</th>\n",
       "      <th>절도 발생</th>\n",
       "      <th>절도 검거</th>\n",
       "      <th>폭력 발생</th>\n",
       "      <th>폭력 검거</th>\n",
       "      <th>자치구</th>\n",
       "    </tr>\n",
       "  </thead>\n",
       "  <tbody>\n",
       "    <tr>\n",
       "      <th>0</th>\n",
       "      <td>중부서</td>\n",
       "      <td>2</td>\n",
       "      <td>2</td>\n",
       "      <td>3</td>\n",
       "      <td>2</td>\n",
       "      <td>105</td>\n",
       "      <td>65</td>\n",
       "      <td>1395</td>\n",
       "      <td>477</td>\n",
       "      <td>1355</td>\n",
       "      <td>1170</td>\n",
       "      <td>중구</td>\n",
       "    </tr>\n",
       "    <tr>\n",
       "      <th>1</th>\n",
       "      <td>종로서</td>\n",
       "      <td>3</td>\n",
       "      <td>3</td>\n",
       "      <td>6</td>\n",
       "      <td>5</td>\n",
       "      <td>115</td>\n",
       "      <td>98</td>\n",
       "      <td>1070</td>\n",
       "      <td>413</td>\n",
       "      <td>1278</td>\n",
       "      <td>1070</td>\n",
       "      <td>종로구</td>\n",
       "    </tr>\n",
       "    <tr>\n",
       "      <th>2</th>\n",
       "      <td>남대문서</td>\n",
       "      <td>1</td>\n",
       "      <td>0</td>\n",
       "      <td>6</td>\n",
       "      <td>4</td>\n",
       "      <td>65</td>\n",
       "      <td>46</td>\n",
       "      <td>1153</td>\n",
       "      <td>382</td>\n",
       "      <td>869</td>\n",
       "      <td>794</td>\n",
       "      <td>중구</td>\n",
       "    </tr>\n",
       "    <tr>\n",
       "      <th>3</th>\n",
       "      <td>서대문서</td>\n",
       "      <td>2</td>\n",
       "      <td>2</td>\n",
       "      <td>5</td>\n",
       "      <td>4</td>\n",
       "      <td>154</td>\n",
       "      <td>124</td>\n",
       "      <td>1812</td>\n",
       "      <td>738</td>\n",
       "      <td>2056</td>\n",
       "      <td>1711</td>\n",
       "      <td>서대문구</td>\n",
       "    </tr>\n",
       "    <tr>\n",
       "      <th>4</th>\n",
       "      <td>혜화서</td>\n",
       "      <td>3</td>\n",
       "      <td>2</td>\n",
       "      <td>5</td>\n",
       "      <td>4</td>\n",
       "      <td>96</td>\n",
       "      <td>63</td>\n",
       "      <td>1114</td>\n",
       "      <td>424</td>\n",
       "      <td>1015</td>\n",
       "      <td>861</td>\n",
       "      <td>종로구</td>\n",
       "    </tr>\n",
       "  </tbody>\n",
       "</table>\n",
       "</div>"
      ],
      "text/plain": [
       "    관서명  살인 발생  살인 검거  강도 발생  강도 검거  강간 발생  강간 검거  절도 발생  절도 검거  폭력 발생  폭력 검거  \\\n",
       "0   중부서      2      2      3      2    105     65   1395    477   1355   1170   \n",
       "1   종로서      3      3      6      5    115     98   1070    413   1278   1070   \n",
       "2  남대문서      1      0      6      4     65     46   1153    382    869    794   \n",
       "3  서대문서      2      2      5      4    154    124   1812    738   2056   1711   \n",
       "4   혜화서      3      2      5      4     96     63   1114    424   1015    861   \n",
       "\n",
       "    자치구  \n",
       "0    중구  \n",
       "1   종로구  \n",
       "2    중구  \n",
       "3  서대문구  \n",
       "4   종로구  "
      ]
     },
     "execution_count": 11,
     "metadata": {},
     "output_type": "execute_result"
    }
   ],
   "source": [
    "# 새로운 컬럼 추가하기\n",
    "crime_data_police['자치구'] = gu_name\n",
    "crime_data_police.head()"
   ]
  },
  {
   "cell_type": "code",
   "execution_count": 12,
   "metadata": {},
   "outputs": [
    {
     "data": {
      "text/html": [
       "<div>\n",
       "<style scoped>\n",
       "    .dataframe tbody tr th:only-of-type {\n",
       "        vertical-align: middle;\n",
       "    }\n",
       "\n",
       "    .dataframe tbody tr th {\n",
       "        vertical-align: top;\n",
       "    }\n",
       "\n",
       "    .dataframe thead th {\n",
       "        text-align: right;\n",
       "    }\n",
       "</style>\n",
       "<table border=\"1\" class=\"dataframe\">\n",
       "  <thead>\n",
       "    <tr style=\"text-align: right;\">\n",
       "      <th></th>\n",
       "      <th>관서명</th>\n",
       "      <th>살인 발생</th>\n",
       "      <th>살인 검거</th>\n",
       "      <th>강도 발생</th>\n",
       "      <th>강도 검거</th>\n",
       "      <th>강간 발생</th>\n",
       "      <th>강간 검거</th>\n",
       "      <th>절도 발생</th>\n",
       "      <th>절도 검거</th>\n",
       "      <th>폭력 발생</th>\n",
       "      <th>폭력 검거</th>\n",
       "      <th>자치구</th>\n",
       "    </tr>\n",
       "  </thead>\n",
       "  <tbody>\n",
       "    <tr>\n",
       "      <th>15</th>\n",
       "      <td>금천서</td>\n",
       "      <td>3</td>\n",
       "      <td>4</td>\n",
       "      <td>6</td>\n",
       "      <td>6</td>\n",
       "      <td>151</td>\n",
       "      <td>122</td>\n",
       "      <td>1567</td>\n",
       "      <td>888</td>\n",
       "      <td>2054</td>\n",
       "      <td>1776</td>\n",
       "      <td>금천구</td>\n",
       "    </tr>\n",
       "  </tbody>\n",
       "</table>\n",
       "</div>"
      ],
      "text/plain": [
       "    관서명  살인 발생  살인 검거  강도 발생  강도 검거  강간 발생  강간 검거  절도 발생  절도 검거  폭력 발생  폭력 검거  \\\n",
       "15  금천서      3      4      6      6    151    122   1567    888   2054   1776   \n",
       "\n",
       "    자치구  \n",
       "15  금천구  "
      ]
     },
     "execution_count": 12,
     "metadata": {},
     "output_type": "execute_result"
    }
   ],
   "source": [
    "# 금천 경찰서의 경우, 사실 관악구에 위치해 있음. 그걸 바꿔줘야함.  \n",
    "#(그럼 구글맵에 잘못 올라와있단 소리임....? 일단, 아닌거 같지만 바꾸는걸 학습하는 개념으로 접근하겠음.)\n",
    "crime_data_police[crime_data_police['관서명']=='금천서']"
   ]
  },
  {
   "cell_type": "code",
   "execution_count": 13,
   "metadata": {},
   "outputs": [
    {
     "data": {
      "text/html": [
       "<div>\n",
       "<style scoped>\n",
       "    .dataframe tbody tr th:only-of-type {\n",
       "        vertical-align: middle;\n",
       "    }\n",
       "\n",
       "    .dataframe tbody tr th {\n",
       "        vertical-align: top;\n",
       "    }\n",
       "\n",
       "    .dataframe thead th {\n",
       "        text-align: right;\n",
       "    }\n",
       "</style>\n",
       "<table border=\"1\" class=\"dataframe\">\n",
       "  <thead>\n",
       "    <tr style=\"text-align: right;\">\n",
       "      <th></th>\n",
       "      <th>관서명</th>\n",
       "      <th>살인 발생</th>\n",
       "      <th>살인 검거</th>\n",
       "      <th>강도 발생</th>\n",
       "      <th>강도 검거</th>\n",
       "      <th>강간 발생</th>\n",
       "      <th>강간 검거</th>\n",
       "      <th>절도 발생</th>\n",
       "      <th>절도 검거</th>\n",
       "      <th>폭력 발생</th>\n",
       "      <th>폭력 검거</th>\n",
       "      <th>자치구</th>\n",
       "    </tr>\n",
       "  </thead>\n",
       "  <tbody>\n",
       "    <tr>\n",
       "      <th>15</th>\n",
       "      <td>금천서</td>\n",
       "      <td>3</td>\n",
       "      <td>4</td>\n",
       "      <td>6</td>\n",
       "      <td>6</td>\n",
       "      <td>151</td>\n",
       "      <td>122</td>\n",
       "      <td>1567</td>\n",
       "      <td>888</td>\n",
       "      <td>2054</td>\n",
       "      <td>1776</td>\n",
       "      <td>관악구</td>\n",
       "    </tr>\n",
       "  </tbody>\n",
       "</table>\n",
       "</div>"
      ],
      "text/plain": [
       "    관서명  살인 발생  살인 검거  강도 발생  강도 검거  강간 발생  강간 검거  절도 발생  절도 검거  폭력 발생  폭력 검거  \\\n",
       "15  금천서      3      4      6      6    151    122   1567    888   2054   1776   \n",
       "\n",
       "    자치구  \n",
       "15  관악구  "
      ]
     },
     "execution_count": 13,
     "metadata": {},
     "output_type": "execute_result"
    }
   ],
   "source": [
    "# row 내용 업데이트하기\n",
    "crime_data_police.loc[crime_data_police['관서명']=='금천서',['자치구']] = '관악구' #관악구로 자치구 바꾸기 \n",
    "    # Set value for all items matching the list of labels\n",
    "    # pd.loc[indexName w/ 조건, 바꾸고싶은 columnName] = value 지정\n",
    "    \n",
    "    \n",
    "crime_data_police[crime_data_police['관서명']=='금천서'] #바꼈는지 확인"
   ]
  },
  {
   "cell_type": "code",
   "execution_count": 14,
   "metadata": {},
   "outputs": [],
   "source": [
    "# 만들어 놓은 파일을 csv로 저장하기 \n",
    "\n",
    "crime_data_police.to_csv(\"../data/02. crime_in_Seoul_include_gu_name.csv\", sep=',', encoding = 'utf-8')"
   ]
  },
  {
   "cell_type": "markdown",
   "metadata": {},
   "source": [
    "# pandas pivot_table 이용해서 데이터 정리하기 "
   ]
  },
  {
   "cell_type": "code",
   "execution_count": 15,
   "metadata": {},
   "outputs": [
    {
     "data": {
      "text/html": [
       "<div>\n",
       "<style scoped>\n",
       "    .dataframe tbody tr th:only-of-type {\n",
       "        vertical-align: middle;\n",
       "    }\n",
       "\n",
       "    .dataframe tbody tr th {\n",
       "        vertical-align: top;\n",
       "    }\n",
       "\n",
       "    .dataframe thead th {\n",
       "        text-align: right;\n",
       "    }\n",
       "</style>\n",
       "<table border=\"1\" class=\"dataframe\">\n",
       "  <thead>\n",
       "    <tr style=\"text-align: right;\">\n",
       "      <th></th>\n",
       "      <th>Unnamed: 0</th>\n",
       "      <th>관서명</th>\n",
       "      <th>살인 발생</th>\n",
       "      <th>살인 검거</th>\n",
       "      <th>강도 발생</th>\n",
       "      <th>강도 검거</th>\n",
       "      <th>강간 발생</th>\n",
       "      <th>강간 검거</th>\n",
       "      <th>절도 발생</th>\n",
       "      <th>절도 검거</th>\n",
       "      <th>폭력 발생</th>\n",
       "      <th>폭력 검거</th>\n",
       "      <th>자치구</th>\n",
       "    </tr>\n",
       "  </thead>\n",
       "  <tbody>\n",
       "    <tr>\n",
       "      <th>0</th>\n",
       "      <td>0</td>\n",
       "      <td>중부서</td>\n",
       "      <td>2</td>\n",
       "      <td>2</td>\n",
       "      <td>3</td>\n",
       "      <td>2</td>\n",
       "      <td>105</td>\n",
       "      <td>65</td>\n",
       "      <td>1395</td>\n",
       "      <td>477</td>\n",
       "      <td>1355</td>\n",
       "      <td>1170</td>\n",
       "      <td>중구</td>\n",
       "    </tr>\n",
       "    <tr>\n",
       "      <th>1</th>\n",
       "      <td>1</td>\n",
       "      <td>종로서</td>\n",
       "      <td>3</td>\n",
       "      <td>3</td>\n",
       "      <td>6</td>\n",
       "      <td>5</td>\n",
       "      <td>115</td>\n",
       "      <td>98</td>\n",
       "      <td>1070</td>\n",
       "      <td>413</td>\n",
       "      <td>1278</td>\n",
       "      <td>1070</td>\n",
       "      <td>종로구</td>\n",
       "    </tr>\n",
       "    <tr>\n",
       "      <th>2</th>\n",
       "      <td>2</td>\n",
       "      <td>남대문서</td>\n",
       "      <td>1</td>\n",
       "      <td>0</td>\n",
       "      <td>6</td>\n",
       "      <td>4</td>\n",
       "      <td>65</td>\n",
       "      <td>46</td>\n",
       "      <td>1153</td>\n",
       "      <td>382</td>\n",
       "      <td>869</td>\n",
       "      <td>794</td>\n",
       "      <td>중구</td>\n",
       "    </tr>\n",
       "    <tr>\n",
       "      <th>3</th>\n",
       "      <td>3</td>\n",
       "      <td>서대문서</td>\n",
       "      <td>2</td>\n",
       "      <td>2</td>\n",
       "      <td>5</td>\n",
       "      <td>4</td>\n",
       "      <td>154</td>\n",
       "      <td>124</td>\n",
       "      <td>1812</td>\n",
       "      <td>738</td>\n",
       "      <td>2056</td>\n",
       "      <td>1711</td>\n",
       "      <td>서대문구</td>\n",
       "    </tr>\n",
       "    <tr>\n",
       "      <th>4</th>\n",
       "      <td>4</td>\n",
       "      <td>혜화서</td>\n",
       "      <td>3</td>\n",
       "      <td>2</td>\n",
       "      <td>5</td>\n",
       "      <td>4</td>\n",
       "      <td>96</td>\n",
       "      <td>63</td>\n",
       "      <td>1114</td>\n",
       "      <td>424</td>\n",
       "      <td>1015</td>\n",
       "      <td>861</td>\n",
       "      <td>종로구</td>\n",
       "    </tr>\n",
       "  </tbody>\n",
       "</table>\n",
       "</div>"
      ],
      "text/plain": [
       "   Unnamed: 0   관서명  살인 발생  살인 검거  강도 발생  강도 검거  강간 발생  강간 검거  절도 발생  절도 검거  \\\n",
       "0           0   중부서      2      2      3      2    105     65   1395    477   \n",
       "1           1   종로서      3      3      6      5    115     98   1070    413   \n",
       "2           2  남대문서      1      0      6      4     65     46   1153    382   \n",
       "3           3  서대문서      2      2      5      4    154    124   1812    738   \n",
       "4           4   혜화서      3      2      5      4     96     63   1114    424   \n",
       "\n",
       "   폭력 발생  폭력 검거   자치구  \n",
       "0   1355   1170    중구  \n",
       "1   1278   1070   종로구  \n",
       "2    869    794    중구  \n",
       "3   2056   1711  서대문구  \n",
       "4   1015    861   종로구  "
      ]
     },
     "execution_count": 15,
     "metadata": {},
     "output_type": "execute_result"
    }
   ],
   "source": [
    "crime_data_updated = pd.read_csv('../data/02. crime_in_Seoul_include_gu_name.csv', encoding = 'utf-8')\n",
    "crime_data_updated.head()"
   ]
  },
  {
   "cell_type": "code",
   "execution_count": 16,
   "metadata": {},
   "outputs": [
    {
     "data": {
      "text/html": [
       "<div>\n",
       "<style scoped>\n",
       "    .dataframe tbody tr th:only-of-type {\n",
       "        vertical-align: middle;\n",
       "    }\n",
       "\n",
       "    .dataframe tbody tr th {\n",
       "        vertical-align: top;\n",
       "    }\n",
       "\n",
       "    .dataframe thead th {\n",
       "        text-align: right;\n",
       "    }\n",
       "</style>\n",
       "<table border=\"1\" class=\"dataframe\">\n",
       "  <thead>\n",
       "    <tr style=\"text-align: right;\">\n",
       "      <th></th>\n",
       "      <th>관서명</th>\n",
       "      <th>살인 발생</th>\n",
       "      <th>살인 검거</th>\n",
       "      <th>강도 발생</th>\n",
       "      <th>강도 검거</th>\n",
       "      <th>강간 발생</th>\n",
       "      <th>강간 검거</th>\n",
       "      <th>절도 발생</th>\n",
       "      <th>절도 검거</th>\n",
       "      <th>폭력 발생</th>\n",
       "      <th>폭력 검거</th>\n",
       "      <th>자치구</th>\n",
       "    </tr>\n",
       "  </thead>\n",
       "  <tbody>\n",
       "    <tr>\n",
       "      <th>0</th>\n",
       "      <td>중부서</td>\n",
       "      <td>2</td>\n",
       "      <td>2</td>\n",
       "      <td>3</td>\n",
       "      <td>2</td>\n",
       "      <td>105</td>\n",
       "      <td>65</td>\n",
       "      <td>1395</td>\n",
       "      <td>477</td>\n",
       "      <td>1355</td>\n",
       "      <td>1170</td>\n",
       "      <td>중구</td>\n",
       "    </tr>\n",
       "    <tr>\n",
       "      <th>1</th>\n",
       "      <td>종로서</td>\n",
       "      <td>3</td>\n",
       "      <td>3</td>\n",
       "      <td>6</td>\n",
       "      <td>5</td>\n",
       "      <td>115</td>\n",
       "      <td>98</td>\n",
       "      <td>1070</td>\n",
       "      <td>413</td>\n",
       "      <td>1278</td>\n",
       "      <td>1070</td>\n",
       "      <td>종로구</td>\n",
       "    </tr>\n",
       "    <tr>\n",
       "      <th>2</th>\n",
       "      <td>남대문서</td>\n",
       "      <td>1</td>\n",
       "      <td>0</td>\n",
       "      <td>6</td>\n",
       "      <td>4</td>\n",
       "      <td>65</td>\n",
       "      <td>46</td>\n",
       "      <td>1153</td>\n",
       "      <td>382</td>\n",
       "      <td>869</td>\n",
       "      <td>794</td>\n",
       "      <td>중구</td>\n",
       "    </tr>\n",
       "    <tr>\n",
       "      <th>3</th>\n",
       "      <td>서대문서</td>\n",
       "      <td>2</td>\n",
       "      <td>2</td>\n",
       "      <td>5</td>\n",
       "      <td>4</td>\n",
       "      <td>154</td>\n",
       "      <td>124</td>\n",
       "      <td>1812</td>\n",
       "      <td>738</td>\n",
       "      <td>2056</td>\n",
       "      <td>1711</td>\n",
       "      <td>서대문구</td>\n",
       "    </tr>\n",
       "    <tr>\n",
       "      <th>4</th>\n",
       "      <td>혜화서</td>\n",
       "      <td>3</td>\n",
       "      <td>2</td>\n",
       "      <td>5</td>\n",
       "      <td>4</td>\n",
       "      <td>96</td>\n",
       "      <td>63</td>\n",
       "      <td>1114</td>\n",
       "      <td>424</td>\n",
       "      <td>1015</td>\n",
       "      <td>861</td>\n",
       "      <td>종로구</td>\n",
       "    </tr>\n",
       "  </tbody>\n",
       "</table>\n",
       "</div>"
      ],
      "text/plain": [
       "    관서명  살인 발생  살인 검거  강도 발생  강도 검거  강간 발생  강간 검거  절도 발생  절도 검거  폭력 발생  폭력 검거  \\\n",
       "0   중부서      2      2      3      2    105     65   1395    477   1355   1170   \n",
       "1   종로서      3      3      6      5    115     98   1070    413   1278   1070   \n",
       "2  남대문서      1      0      6      4     65     46   1153    382    869    794   \n",
       "3  서대문서      2      2      5      4    154    124   1812    738   2056   1711   \n",
       "4   혜화서      3      2      5      4     96     63   1114    424   1015    861   \n",
       "\n",
       "    자치구  \n",
       "0    중구  \n",
       "1   종로구  \n",
       "2    중구  \n",
       "3  서대문구  \n",
       "4   종로구  "
      ]
     },
     "execution_count": 16,
     "metadata": {},
     "output_type": "execute_result"
    },
    {
     "data": {
      "text/html": [
       "<div>\n",
       "<style scoped>\n",
       "    .dataframe tbody tr th:only-of-type {\n",
       "        vertical-align: middle;\n",
       "    }\n",
       "\n",
       "    .dataframe tbody tr th {\n",
       "        vertical-align: top;\n",
       "    }\n",
       "\n",
       "    .dataframe thead th {\n",
       "        text-align: right;\n",
       "    }\n",
       "</style>\n",
       "<table border=\"1\" class=\"dataframe\">\n",
       "  <thead>\n",
       "    <tr style=\"text-align: right;\">\n",
       "      <th></th>\n",
       "      <th>관서명</th>\n",
       "      <th>살인 발생</th>\n",
       "      <th>살인 검거</th>\n",
       "      <th>강도 발생</th>\n",
       "      <th>강도 검거</th>\n",
       "      <th>강간 발생</th>\n",
       "      <th>강간 검거</th>\n",
       "      <th>절도 발생</th>\n",
       "      <th>절도 검거</th>\n",
       "      <th>폭력 발생</th>\n",
       "      <th>폭력 검거</th>\n",
       "      <th>자치구</th>\n",
       "    </tr>\n",
       "  </thead>\n",
       "  <tbody>\n",
       "    <tr>\n",
       "      <th>30</th>\n",
       "      <td>수서서</td>\n",
       "      <td>10</td>\n",
       "      <td>7</td>\n",
       "      <td>6</td>\n",
       "      <td>6</td>\n",
       "      <td>149</td>\n",
       "      <td>124</td>\n",
       "      <td>1439</td>\n",
       "      <td>666</td>\n",
       "      <td>1819</td>\n",
       "      <td>1559</td>\n",
       "      <td>강남구</td>\n",
       "    </tr>\n",
       "    <tr>\n",
       "      <th>17</th>\n",
       "      <td>강남서</td>\n",
       "      <td>3</td>\n",
       "      <td>3</td>\n",
       "      <td>15</td>\n",
       "      <td>12</td>\n",
       "      <td>300</td>\n",
       "      <td>225</td>\n",
       "      <td>2411</td>\n",
       "      <td>984</td>\n",
       "      <td>2465</td>\n",
       "      <td>2146</td>\n",
       "      <td>강남구</td>\n",
       "    </tr>\n",
       "    <tr>\n",
       "      <th>20</th>\n",
       "      <td>강동서</td>\n",
       "      <td>4</td>\n",
       "      <td>3</td>\n",
       "      <td>6</td>\n",
       "      <td>8</td>\n",
       "      <td>156</td>\n",
       "      <td>123</td>\n",
       "      <td>2366</td>\n",
       "      <td>789</td>\n",
       "      <td>2712</td>\n",
       "      <td>2248</td>\n",
       "      <td>강동구</td>\n",
       "    </tr>\n",
       "    <tr>\n",
       "      <th>14</th>\n",
       "      <td>강북서</td>\n",
       "      <td>7</td>\n",
       "      <td>8</td>\n",
       "      <td>14</td>\n",
       "      <td>13</td>\n",
       "      <td>153</td>\n",
       "      <td>126</td>\n",
       "      <td>1434</td>\n",
       "      <td>618</td>\n",
       "      <td>2649</td>\n",
       "      <td>2348</td>\n",
       "      <td>강북구</td>\n",
       "    </tr>\n",
       "    <tr>\n",
       "      <th>18</th>\n",
       "      <td>관악서</td>\n",
       "      <td>9</td>\n",
       "      <td>8</td>\n",
       "      <td>12</td>\n",
       "      <td>14</td>\n",
       "      <td>320</td>\n",
       "      <td>221</td>\n",
       "      <td>2706</td>\n",
       "      <td>827</td>\n",
       "      <td>3298</td>\n",
       "      <td>2642</td>\n",
       "      <td>관악구</td>\n",
       "    </tr>\n",
       "    <tr>\n",
       "      <th>15</th>\n",
       "      <td>금천서</td>\n",
       "      <td>3</td>\n",
       "      <td>4</td>\n",
       "      <td>6</td>\n",
       "      <td>6</td>\n",
       "      <td>151</td>\n",
       "      <td>122</td>\n",
       "      <td>1567</td>\n",
       "      <td>888</td>\n",
       "      <td>2054</td>\n",
       "      <td>1776</td>\n",
       "      <td>관악구</td>\n",
       "    </tr>\n",
       "    <tr>\n",
       "      <th>12</th>\n",
       "      <td>광진서</td>\n",
       "      <td>4</td>\n",
       "      <td>4</td>\n",
       "      <td>14</td>\n",
       "      <td>26</td>\n",
       "      <td>240</td>\n",
       "      <td>220</td>\n",
       "      <td>3026</td>\n",
       "      <td>1277</td>\n",
       "      <td>2625</td>\n",
       "      <td>2180</td>\n",
       "      <td>광진구</td>\n",
       "    </tr>\n",
       "    <tr>\n",
       "      <th>22</th>\n",
       "      <td>구로서</td>\n",
       "      <td>8</td>\n",
       "      <td>6</td>\n",
       "      <td>15</td>\n",
       "      <td>11</td>\n",
       "      <td>281</td>\n",
       "      <td>164</td>\n",
       "      <td>2335</td>\n",
       "      <td>889</td>\n",
       "      <td>3007</td>\n",
       "      <td>2432</td>\n",
       "      <td>구로구</td>\n",
       "    </tr>\n",
       "  </tbody>\n",
       "</table>\n",
       "</div>"
      ],
      "text/plain": [
       "    관서명  살인 발생  살인 검거  강도 발생  강도 검거  강간 발생  강간 검거  절도 발생  절도 검거  폭력 발생  폭력 검거  \\\n",
       "30  수서서     10      7      6      6    149    124   1439    666   1819   1559   \n",
       "17  강남서      3      3     15     12    300    225   2411    984   2465   2146   \n",
       "20  강동서      4      3      6      8    156    123   2366    789   2712   2248   \n",
       "14  강북서      7      8     14     13    153    126   1434    618   2649   2348   \n",
       "18  관악서      9      8     12     14    320    221   2706    827   3298   2642   \n",
       "15  금천서      3      4      6      6    151    122   1567    888   2054   1776   \n",
       "12  광진서      4      4     14     26    240    220   3026   1277   2625   2180   \n",
       "22  구로서      8      6     15     11    281    164   2335    889   3007   2432   \n",
       "\n",
       "    자치구  \n",
       "30  강남구  \n",
       "17  강남구  \n",
       "20  강동구  \n",
       "14  강북구  \n",
       "18  관악구  \n",
       "15  관악구  \n",
       "12  광진구  \n",
       "22  구로구  "
      ]
     },
     "execution_count": 16,
     "metadata": {},
     "output_type": "execute_result"
    }
   ],
   "source": [
    "#index column 수정\n",
    "crime_data_updated = pd.read_csv('../data/02. crime_in_Seoul_include_gu_name.csv', encoding = 'utf-8', index_col=0)\n",
    "crime_data_updated.head()\n",
    "crime_data_updated.sort_values(by = '자치구').head(8)"
   ]
  },
  {
   "cell_type": "code",
   "execution_count": 17,
   "metadata": {},
   "outputs": [
    {
     "data": {
      "text/html": [
       "<div>\n",
       "<style scoped>\n",
       "    .dataframe tbody tr th:only-of-type {\n",
       "        vertical-align: middle;\n",
       "    }\n",
       "\n",
       "    .dataframe tbody tr th {\n",
       "        vertical-align: top;\n",
       "    }\n",
       "\n",
       "    .dataframe thead th {\n",
       "        text-align: right;\n",
       "    }\n",
       "</style>\n",
       "<table border=\"1\" class=\"dataframe\">\n",
       "  <thead>\n",
       "    <tr style=\"text-align: right;\">\n",
       "      <th></th>\n",
       "      <th>강간 검거</th>\n",
       "      <th>강간 발생</th>\n",
       "      <th>강도 검거</th>\n",
       "      <th>강도 발생</th>\n",
       "      <th>살인 검거</th>\n",
       "      <th>살인 발생</th>\n",
       "      <th>절도 검거</th>\n",
       "      <th>절도 발생</th>\n",
       "      <th>폭력 검거</th>\n",
       "      <th>폭력 발생</th>\n",
       "    </tr>\n",
       "    <tr>\n",
       "      <th>자치구</th>\n",
       "      <th></th>\n",
       "      <th></th>\n",
       "      <th></th>\n",
       "      <th></th>\n",
       "      <th></th>\n",
       "      <th></th>\n",
       "      <th></th>\n",
       "      <th></th>\n",
       "      <th></th>\n",
       "      <th></th>\n",
       "    </tr>\n",
       "  </thead>\n",
       "  <tbody>\n",
       "    <tr>\n",
       "      <th>강남구</th>\n",
       "      <td>349</td>\n",
       "      <td>449</td>\n",
       "      <td>18</td>\n",
       "      <td>21</td>\n",
       "      <td>10</td>\n",
       "      <td>13</td>\n",
       "      <td>1650</td>\n",
       "      <td>3850</td>\n",
       "      <td>3705</td>\n",
       "      <td>4284</td>\n",
       "    </tr>\n",
       "    <tr>\n",
       "      <th>강동구</th>\n",
       "      <td>123</td>\n",
       "      <td>156</td>\n",
       "      <td>8</td>\n",
       "      <td>6</td>\n",
       "      <td>3</td>\n",
       "      <td>4</td>\n",
       "      <td>789</td>\n",
       "      <td>2366</td>\n",
       "      <td>2248</td>\n",
       "      <td>2712</td>\n",
       "    </tr>\n",
       "    <tr>\n",
       "      <th>강북구</th>\n",
       "      <td>126</td>\n",
       "      <td>153</td>\n",
       "      <td>13</td>\n",
       "      <td>14</td>\n",
       "      <td>8</td>\n",
       "      <td>7</td>\n",
       "      <td>618</td>\n",
       "      <td>1434</td>\n",
       "      <td>2348</td>\n",
       "      <td>2649</td>\n",
       "    </tr>\n",
       "    <tr>\n",
       "      <th>관악구</th>\n",
       "      <td>343</td>\n",
       "      <td>471</td>\n",
       "      <td>20</td>\n",
       "      <td>18</td>\n",
       "      <td>12</td>\n",
       "      <td>12</td>\n",
       "      <td>1715</td>\n",
       "      <td>4273</td>\n",
       "      <td>4418</td>\n",
       "      <td>5352</td>\n",
       "    </tr>\n",
       "    <tr>\n",
       "      <th>광진구</th>\n",
       "      <td>220</td>\n",
       "      <td>240</td>\n",
       "      <td>26</td>\n",
       "      <td>14</td>\n",
       "      <td>4</td>\n",
       "      <td>4</td>\n",
       "      <td>1277</td>\n",
       "      <td>3026</td>\n",
       "      <td>2180</td>\n",
       "      <td>2625</td>\n",
       "    </tr>\n",
       "  </tbody>\n",
       "</table>\n",
       "</div>"
      ],
      "text/plain": [
       "     강간 검거  강간 발생  강도 검거  강도 발생  살인 검거  살인 발생  절도 검거  절도 발생  폭력 검거  폭력 발생\n",
       "자치구                                                                      \n",
       "강남구    349    449     18     21     10     13   1650   3850   3705   4284\n",
       "강동구    123    156      8      6      3      4    789   2366   2248   2712\n",
       "강북구    126    153     13     14      8      7    618   1434   2348   2649\n",
       "관악구    343    471     20     18     12     12   1715   4273   4418   5352\n",
       "광진구    220    240     26     14      4      4   1277   3026   2180   2625"
      ]
     },
     "execution_count": 17,
     "metadata": {},
     "output_type": "execute_result"
    }
   ],
   "source": [
    "# 자치구를 기준으로 한 데이터 만들기 \n",
    "\n",
    "crime_final = pd.pivot_table(crime_data_updated, index = '자치구', aggfunc = np.sum) \n",
    "    #aggfunc = np.sum: average가 아닌 sum 을 보여달라\n",
    "crime_final.head()"
   ]
  },
  {
   "cell_type": "code",
   "execution_count": 18,
   "metadata": {},
   "outputs": [
    {
     "data": {
      "text/html": [
       "<div>\n",
       "<style scoped>\n",
       "    .dataframe tbody tr th:only-of-type {\n",
       "        vertical-align: middle;\n",
       "    }\n",
       "\n",
       "    .dataframe tbody tr th {\n",
       "        vertical-align: top;\n",
       "    }\n",
       "\n",
       "    .dataframe thead th {\n",
       "        text-align: right;\n",
       "    }\n",
       "</style>\n",
       "<table border=\"1\" class=\"dataframe\">\n",
       "  <thead>\n",
       "    <tr style=\"text-align: right;\">\n",
       "      <th></th>\n",
       "      <th>강간 검거</th>\n",
       "      <th>강간 발생</th>\n",
       "      <th>강도 검거</th>\n",
       "      <th>강도 발생</th>\n",
       "      <th>살인 검거</th>\n",
       "      <th>살인 발생</th>\n",
       "      <th>절도 검거</th>\n",
       "      <th>절도 발생</th>\n",
       "      <th>폭력 검거</th>\n",
       "      <th>폭력 발생</th>\n",
       "      <th>강간검거율</th>\n",
       "      <th>강도검거율</th>\n",
       "      <th>살인검거율</th>\n",
       "      <th>절도검거율</th>\n",
       "      <th>폭력검거율</th>\n",
       "    </tr>\n",
       "    <tr>\n",
       "      <th>자치구</th>\n",
       "      <th></th>\n",
       "      <th></th>\n",
       "      <th></th>\n",
       "      <th></th>\n",
       "      <th></th>\n",
       "      <th></th>\n",
       "      <th></th>\n",
       "      <th></th>\n",
       "      <th></th>\n",
       "      <th></th>\n",
       "      <th></th>\n",
       "      <th></th>\n",
       "      <th></th>\n",
       "      <th></th>\n",
       "      <th></th>\n",
       "    </tr>\n",
       "  </thead>\n",
       "  <tbody>\n",
       "    <tr>\n",
       "      <th>강남구</th>\n",
       "      <td>349</td>\n",
       "      <td>449</td>\n",
       "      <td>18</td>\n",
       "      <td>21</td>\n",
       "      <td>10</td>\n",
       "      <td>13</td>\n",
       "      <td>1650</td>\n",
       "      <td>3850</td>\n",
       "      <td>3705</td>\n",
       "      <td>4284</td>\n",
       "      <td>77.728285</td>\n",
       "      <td>85.714286</td>\n",
       "      <td>76.923077</td>\n",
       "      <td>42.857143</td>\n",
       "      <td>86.484594</td>\n",
       "    </tr>\n",
       "    <tr>\n",
       "      <th>강동구</th>\n",
       "      <td>123</td>\n",
       "      <td>156</td>\n",
       "      <td>8</td>\n",
       "      <td>6</td>\n",
       "      <td>3</td>\n",
       "      <td>4</td>\n",
       "      <td>789</td>\n",
       "      <td>2366</td>\n",
       "      <td>2248</td>\n",
       "      <td>2712</td>\n",
       "      <td>78.846154</td>\n",
       "      <td>133.333333</td>\n",
       "      <td>75.000000</td>\n",
       "      <td>33.347422</td>\n",
       "      <td>82.890855</td>\n",
       "    </tr>\n",
       "    <tr>\n",
       "      <th>강북구</th>\n",
       "      <td>126</td>\n",
       "      <td>153</td>\n",
       "      <td>13</td>\n",
       "      <td>14</td>\n",
       "      <td>8</td>\n",
       "      <td>7</td>\n",
       "      <td>618</td>\n",
       "      <td>1434</td>\n",
       "      <td>2348</td>\n",
       "      <td>2649</td>\n",
       "      <td>82.352941</td>\n",
       "      <td>92.857143</td>\n",
       "      <td>114.285714</td>\n",
       "      <td>43.096234</td>\n",
       "      <td>88.637222</td>\n",
       "    </tr>\n",
       "    <tr>\n",
       "      <th>관악구</th>\n",
       "      <td>343</td>\n",
       "      <td>471</td>\n",
       "      <td>20</td>\n",
       "      <td>18</td>\n",
       "      <td>12</td>\n",
       "      <td>12</td>\n",
       "      <td>1715</td>\n",
       "      <td>4273</td>\n",
       "      <td>4418</td>\n",
       "      <td>5352</td>\n",
       "      <td>72.823779</td>\n",
       "      <td>111.111111</td>\n",
       "      <td>100.000000</td>\n",
       "      <td>40.135736</td>\n",
       "      <td>82.548580</td>\n",
       "    </tr>\n",
       "    <tr>\n",
       "      <th>광진구</th>\n",
       "      <td>220</td>\n",
       "      <td>240</td>\n",
       "      <td>26</td>\n",
       "      <td>14</td>\n",
       "      <td>4</td>\n",
       "      <td>4</td>\n",
       "      <td>1277</td>\n",
       "      <td>3026</td>\n",
       "      <td>2180</td>\n",
       "      <td>2625</td>\n",
       "      <td>91.666667</td>\n",
       "      <td>185.714286</td>\n",
       "      <td>100.000000</td>\n",
       "      <td>42.200925</td>\n",
       "      <td>83.047619</td>\n",
       "    </tr>\n",
       "  </tbody>\n",
       "</table>\n",
       "</div>"
      ],
      "text/plain": [
       "     강간 검거  강간 발생  강도 검거  강도 발생  살인 검거  살인 발생  절도 검거  절도 발생  폭력 검거  폭력 발생  \\\n",
       "자치구                                                                         \n",
       "강남구    349    449     18     21     10     13   1650   3850   3705   4284   \n",
       "강동구    123    156      8      6      3      4    789   2366   2248   2712   \n",
       "강북구    126    153     13     14      8      7    618   1434   2348   2649   \n",
       "관악구    343    471     20     18     12     12   1715   4273   4418   5352   \n",
       "광진구    220    240     26     14      4      4   1277   3026   2180   2625   \n",
       "\n",
       "         강간검거율       강도검거율       살인검거율      절도검거율      폭력검거율  \n",
       "자치구                                                           \n",
       "강남구  77.728285   85.714286   76.923077  42.857143  86.484594  \n",
       "강동구  78.846154  133.333333   75.000000  33.347422  82.890855  \n",
       "강북구  82.352941   92.857143  114.285714  43.096234  88.637222  \n",
       "관악구  72.823779  111.111111  100.000000  40.135736  82.548580  \n",
       "광진구  91.666667  185.714286  100.000000  42.200925  83.047619  "
      ]
     },
     "execution_count": 18,
     "metadata": {},
     "output_type": "execute_result"
    }
   ],
   "source": [
    "# 검거율 데이터 만들기 \n",
    "\n",
    "crime_final['강간검거율'] = crime_final['강간 검거']/crime_final['강간 발생']*100\n",
    "crime_final['강도검거율'] = crime_final['강도 검거']/crime_final['강도 발생']*100\n",
    "crime_final['살인검거율'] = crime_final['살인 검거']/crime_final['살인 발생']*100\n",
    "crime_final['절도검거율'] = crime_final['절도 검거']/crime_final['절도 발생']*100\n",
    "crime_final['폭력검거율'] = crime_final['폭력 검거']/crime_final['폭력 발생']*100\n",
    "\n",
    "crime_final.head()"
   ]
  },
  {
   "cell_type": "code",
   "execution_count": 19,
   "metadata": {},
   "outputs": [
    {
     "data": {
      "text/html": [
       "<div>\n",
       "<style scoped>\n",
       "    .dataframe tbody tr th:only-of-type {\n",
       "        vertical-align: middle;\n",
       "    }\n",
       "\n",
       "    .dataframe tbody tr th {\n",
       "        vertical-align: top;\n",
       "    }\n",
       "\n",
       "    .dataframe thead th {\n",
       "        text-align: right;\n",
       "    }\n",
       "</style>\n",
       "<table border=\"1\" class=\"dataframe\">\n",
       "  <thead>\n",
       "    <tr style=\"text-align: right;\">\n",
       "      <th></th>\n",
       "      <th>강간 발생</th>\n",
       "      <th>강도 발생</th>\n",
       "      <th>살인 발생</th>\n",
       "      <th>절도 발생</th>\n",
       "      <th>폭력 발생</th>\n",
       "      <th>강간검거율</th>\n",
       "      <th>강도검거율</th>\n",
       "      <th>살인검거율</th>\n",
       "      <th>절도검거율</th>\n",
       "      <th>폭력검거율</th>\n",
       "    </tr>\n",
       "    <tr>\n",
       "      <th>자치구</th>\n",
       "      <th></th>\n",
       "      <th></th>\n",
       "      <th></th>\n",
       "      <th></th>\n",
       "      <th></th>\n",
       "      <th></th>\n",
       "      <th></th>\n",
       "      <th></th>\n",
       "      <th></th>\n",
       "      <th></th>\n",
       "    </tr>\n",
       "  </thead>\n",
       "  <tbody>\n",
       "    <tr>\n",
       "      <th>강남구</th>\n",
       "      <td>449</td>\n",
       "      <td>21</td>\n",
       "      <td>13</td>\n",
       "      <td>3850</td>\n",
       "      <td>4284</td>\n",
       "      <td>77.728285</td>\n",
       "      <td>85.714286</td>\n",
       "      <td>76.923077</td>\n",
       "      <td>42.857143</td>\n",
       "      <td>86.484594</td>\n",
       "    </tr>\n",
       "    <tr>\n",
       "      <th>강동구</th>\n",
       "      <td>156</td>\n",
       "      <td>6</td>\n",
       "      <td>4</td>\n",
       "      <td>2366</td>\n",
       "      <td>2712</td>\n",
       "      <td>78.846154</td>\n",
       "      <td>133.333333</td>\n",
       "      <td>75.000000</td>\n",
       "      <td>33.347422</td>\n",
       "      <td>82.890855</td>\n",
       "    </tr>\n",
       "    <tr>\n",
       "      <th>강북구</th>\n",
       "      <td>153</td>\n",
       "      <td>14</td>\n",
       "      <td>7</td>\n",
       "      <td>1434</td>\n",
       "      <td>2649</td>\n",
       "      <td>82.352941</td>\n",
       "      <td>92.857143</td>\n",
       "      <td>114.285714</td>\n",
       "      <td>43.096234</td>\n",
       "      <td>88.637222</td>\n",
       "    </tr>\n",
       "    <tr>\n",
       "      <th>관악구</th>\n",
       "      <td>471</td>\n",
       "      <td>18</td>\n",
       "      <td>12</td>\n",
       "      <td>4273</td>\n",
       "      <td>5352</td>\n",
       "      <td>72.823779</td>\n",
       "      <td>111.111111</td>\n",
       "      <td>100.000000</td>\n",
       "      <td>40.135736</td>\n",
       "      <td>82.548580</td>\n",
       "    </tr>\n",
       "    <tr>\n",
       "      <th>광진구</th>\n",
       "      <td>240</td>\n",
       "      <td>14</td>\n",
       "      <td>4</td>\n",
       "      <td>3026</td>\n",
       "      <td>2625</td>\n",
       "      <td>91.666667</td>\n",
       "      <td>185.714286</td>\n",
       "      <td>100.000000</td>\n",
       "      <td>42.200925</td>\n",
       "      <td>83.047619</td>\n",
       "    </tr>\n",
       "  </tbody>\n",
       "</table>\n",
       "</div>"
      ],
      "text/plain": [
       "     강간 발생  강도 발생  살인 발생  절도 발생  폭력 발생      강간검거율       강도검거율       살인검거율  \\\n",
       "자치구                                                                         \n",
       "강남구    449     21     13   3850   4284  77.728285   85.714286   76.923077   \n",
       "강동구    156      6      4   2366   2712  78.846154  133.333333   75.000000   \n",
       "강북구    153     14      7   1434   2649  82.352941   92.857143  114.285714   \n",
       "관악구    471     18     12   4273   5352  72.823779  111.111111  100.000000   \n",
       "광진구    240     14      4   3026   2625  91.666667  185.714286  100.000000   \n",
       "\n",
       "         절도검거율      폭력검거율  \n",
       "자치구                        \n",
       "강남구  42.857143  86.484594  \n",
       "강동구  33.347422  82.890855  \n",
       "강북구  43.096234  88.637222  \n",
       "관악구  40.135736  82.548580  \n",
       "광진구  42.200925  83.047619  "
      ]
     },
     "execution_count": 19,
     "metadata": {},
     "output_type": "execute_result"
    }
   ],
   "source": [
    "# 검거 건수는 검거율로 대체 가능하므로 삭제\n",
    "\n",
    "del crime_final['강간 검거']\n",
    "del crime_final['강도 검거']\n",
    "del crime_final['살인 검거']\n",
    "del crime_final['절도 검거']\n",
    "del crime_final['폭력 검거']\n",
    "\n",
    "crime_final.head()"
   ]
  },
  {
   "cell_type": "code",
   "execution_count": 20,
   "metadata": {},
   "outputs": [
    {
     "data": {
      "text/html": [
       "<div>\n",
       "<style scoped>\n",
       "    .dataframe tbody tr th:only-of-type {\n",
       "        vertical-align: middle;\n",
       "    }\n",
       "\n",
       "    .dataframe tbody tr th {\n",
       "        vertical-align: top;\n",
       "    }\n",
       "\n",
       "    .dataframe thead th {\n",
       "        text-align: right;\n",
       "    }\n",
       "</style>\n",
       "<table border=\"1\" class=\"dataframe\">\n",
       "  <thead>\n",
       "    <tr style=\"text-align: right;\">\n",
       "      <th></th>\n",
       "      <th>강간 발생</th>\n",
       "      <th>강도 발생</th>\n",
       "      <th>살인 발생</th>\n",
       "      <th>절도 발생</th>\n",
       "      <th>폭력 발생</th>\n",
       "      <th>강간검거율</th>\n",
       "      <th>강도검거율</th>\n",
       "      <th>살인검거율</th>\n",
       "      <th>절도검거율</th>\n",
       "      <th>폭력검거율</th>\n",
       "    </tr>\n",
       "    <tr>\n",
       "      <th>자치구</th>\n",
       "      <th></th>\n",
       "      <th></th>\n",
       "      <th></th>\n",
       "      <th></th>\n",
       "      <th></th>\n",
       "      <th></th>\n",
       "      <th></th>\n",
       "      <th></th>\n",
       "      <th></th>\n",
       "      <th></th>\n",
       "    </tr>\n",
       "  </thead>\n",
       "  <tbody>\n",
       "    <tr>\n",
       "      <th>강남구</th>\n",
       "      <td>449</td>\n",
       "      <td>21</td>\n",
       "      <td>13</td>\n",
       "      <td>3850</td>\n",
       "      <td>4284</td>\n",
       "      <td>77.728285</td>\n",
       "      <td>85.714286</td>\n",
       "      <td>76.923077</td>\n",
       "      <td>42.857143</td>\n",
       "      <td>86.484594</td>\n",
       "    </tr>\n",
       "    <tr>\n",
       "      <th>강동구</th>\n",
       "      <td>156</td>\n",
       "      <td>6</td>\n",
       "      <td>4</td>\n",
       "      <td>2366</td>\n",
       "      <td>2712</td>\n",
       "      <td>78.846154</td>\n",
       "      <td>100.000000</td>\n",
       "      <td>75.000000</td>\n",
       "      <td>33.347422</td>\n",
       "      <td>82.890855</td>\n",
       "    </tr>\n",
       "    <tr>\n",
       "      <th>강북구</th>\n",
       "      <td>153</td>\n",
       "      <td>14</td>\n",
       "      <td>7</td>\n",
       "      <td>1434</td>\n",
       "      <td>2649</td>\n",
       "      <td>82.352941</td>\n",
       "      <td>92.857143</td>\n",
       "      <td>100.000000</td>\n",
       "      <td>43.096234</td>\n",
       "      <td>88.637222</td>\n",
       "    </tr>\n",
       "    <tr>\n",
       "      <th>관악구</th>\n",
       "      <td>471</td>\n",
       "      <td>18</td>\n",
       "      <td>12</td>\n",
       "      <td>4273</td>\n",
       "      <td>5352</td>\n",
       "      <td>72.823779</td>\n",
       "      <td>100.000000</td>\n",
       "      <td>100.000000</td>\n",
       "      <td>40.135736</td>\n",
       "      <td>82.548580</td>\n",
       "    </tr>\n",
       "    <tr>\n",
       "      <th>광진구</th>\n",
       "      <td>240</td>\n",
       "      <td>14</td>\n",
       "      <td>4</td>\n",
       "      <td>3026</td>\n",
       "      <td>2625</td>\n",
       "      <td>91.666667</td>\n",
       "      <td>100.000000</td>\n",
       "      <td>100.000000</td>\n",
       "      <td>42.200925</td>\n",
       "      <td>83.047619</td>\n",
       "    </tr>\n",
       "  </tbody>\n",
       "</table>\n",
       "</div>"
      ],
      "text/plain": [
       "     강간 발생  강도 발생  살인 발생  절도 발생  폭력 발생      강간검거율       강도검거율       살인검거율  \\\n",
       "자치구                                                                         \n",
       "강남구    449     21     13   3850   4284  77.728285   85.714286   76.923077   \n",
       "강동구    156      6      4   2366   2712  78.846154  100.000000   75.000000   \n",
       "강북구    153     14      7   1434   2649  82.352941   92.857143  100.000000   \n",
       "관악구    471     18     12   4273   5352  72.823779  100.000000  100.000000   \n",
       "광진구    240     14      4   3026   2625  91.666667  100.000000  100.000000   \n",
       "\n",
       "         절도검거율      폭력검거율  \n",
       "자치구                        \n",
       "강남구  42.857143  86.484594  \n",
       "강동구  33.347422  82.890855  \n",
       "강북구  43.096234  88.637222  \n",
       "관악구  40.135736  82.548580  \n",
       "광진구  42.200925  83.047619  "
      ]
     },
     "execution_count": 20,
     "metadata": {},
     "output_type": "execute_result"
    }
   ],
   "source": [
    "# 검거율중 100이 넘는게 있음. 전년도 발생 건수에 대한 검거도 포함이 되는듯 하나, 우리는 그냥 다 100으로 처리하겠음. \n",
    "\n",
    "column_list = ['강간검거율','강도검거율','살인검거율','절도검거율','폭력검거율'] \n",
    "\n",
    "for column in column_list:\n",
    "#     print(\"\\n\",column)\n",
    "#     print(\"\\n\",crime_final[column])\n",
    "    crime_final.loc[crime_final[column] > 100, column] = 100  #for loop때문이 아니라, 원래loc가 전체 열의 data를 훑어서 바꿔줌.\n",
    "        # 맨 뒤에 column 안써주면 모든 열이 다 바뀜 \n",
    "        # Set value for all items matching the list of labels\n",
    "        # pd.loc[ 조건, 바꾸고싶은 columnName] = value 지정\n",
    "\n",
    "crime_final.head()"
   ]
  },
  {
   "cell_type": "code",
   "execution_count": 21,
   "metadata": {},
   "outputs": [
    {
     "data": {
      "text/html": [
       "<div>\n",
       "<style scoped>\n",
       "    .dataframe tbody tr th:only-of-type {\n",
       "        vertical-align: middle;\n",
       "    }\n",
       "\n",
       "    .dataframe tbody tr th {\n",
       "        vertical-align: top;\n",
       "    }\n",
       "\n",
       "    .dataframe thead th {\n",
       "        text-align: right;\n",
       "    }\n",
       "</style>\n",
       "<table border=\"1\" class=\"dataframe\">\n",
       "  <thead>\n",
       "    <tr style=\"text-align: right;\">\n",
       "      <th></th>\n",
       "      <th>강간</th>\n",
       "      <th>강도</th>\n",
       "      <th>살인</th>\n",
       "      <th>절도</th>\n",
       "      <th>폭력</th>\n",
       "      <th>강간검거율</th>\n",
       "      <th>강도검거율</th>\n",
       "      <th>살인검거율</th>\n",
       "      <th>절도검거율</th>\n",
       "      <th>폭력검거율</th>\n",
       "    </tr>\n",
       "    <tr>\n",
       "      <th>자치구</th>\n",
       "      <th></th>\n",
       "      <th></th>\n",
       "      <th></th>\n",
       "      <th></th>\n",
       "      <th></th>\n",
       "      <th></th>\n",
       "      <th></th>\n",
       "      <th></th>\n",
       "      <th></th>\n",
       "      <th></th>\n",
       "    </tr>\n",
       "  </thead>\n",
       "  <tbody>\n",
       "    <tr>\n",
       "      <th>강남구</th>\n",
       "      <td>449</td>\n",
       "      <td>21</td>\n",
       "      <td>13</td>\n",
       "      <td>3850</td>\n",
       "      <td>4284</td>\n",
       "      <td>77.728285</td>\n",
       "      <td>85.714286</td>\n",
       "      <td>76.923077</td>\n",
       "      <td>42.857143</td>\n",
       "      <td>86.484594</td>\n",
       "    </tr>\n",
       "    <tr>\n",
       "      <th>강동구</th>\n",
       "      <td>156</td>\n",
       "      <td>6</td>\n",
       "      <td>4</td>\n",
       "      <td>2366</td>\n",
       "      <td>2712</td>\n",
       "      <td>78.846154</td>\n",
       "      <td>100.000000</td>\n",
       "      <td>75.000000</td>\n",
       "      <td>33.347422</td>\n",
       "      <td>82.890855</td>\n",
       "    </tr>\n",
       "    <tr>\n",
       "      <th>강북구</th>\n",
       "      <td>153</td>\n",
       "      <td>14</td>\n",
       "      <td>7</td>\n",
       "      <td>1434</td>\n",
       "      <td>2649</td>\n",
       "      <td>82.352941</td>\n",
       "      <td>92.857143</td>\n",
       "      <td>100.000000</td>\n",
       "      <td>43.096234</td>\n",
       "      <td>88.637222</td>\n",
       "    </tr>\n",
       "    <tr>\n",
       "      <th>관악구</th>\n",
       "      <td>471</td>\n",
       "      <td>18</td>\n",
       "      <td>12</td>\n",
       "      <td>4273</td>\n",
       "      <td>5352</td>\n",
       "      <td>72.823779</td>\n",
       "      <td>100.000000</td>\n",
       "      <td>100.000000</td>\n",
       "      <td>40.135736</td>\n",
       "      <td>82.548580</td>\n",
       "    </tr>\n",
       "    <tr>\n",
       "      <th>광진구</th>\n",
       "      <td>240</td>\n",
       "      <td>14</td>\n",
       "      <td>4</td>\n",
       "      <td>3026</td>\n",
       "      <td>2625</td>\n",
       "      <td>91.666667</td>\n",
       "      <td>100.000000</td>\n",
       "      <td>100.000000</td>\n",
       "      <td>42.200925</td>\n",
       "      <td>83.047619</td>\n",
       "    </tr>\n",
       "  </tbody>\n",
       "</table>\n",
       "</div>"
      ],
      "text/plain": [
       "      강간  강도  살인    절도    폭력      강간검거율       강도검거율       살인검거율      절도검거율  \\\n",
       "자치구                                                                          \n",
       "강남구  449  21  13  3850  4284  77.728285   85.714286   76.923077  42.857143   \n",
       "강동구  156   6   4  2366  2712  78.846154  100.000000   75.000000  33.347422   \n",
       "강북구  153  14   7  1434  2649  82.352941   92.857143  100.000000  43.096234   \n",
       "관악구  471  18  12  4273  5352  72.823779  100.000000  100.000000  40.135736   \n",
       "광진구  240  14   4  3026  2625  91.666667  100.000000  100.000000  42.200925   \n",
       "\n",
       "         폭력검거율  \n",
       "자치구             \n",
       "강남구  86.484594  \n",
       "강동구  82.890855  \n",
       "강북구  88.637222  \n",
       "관악구  82.548580  \n",
       "광진구  83.047619  "
      ]
     },
     "execution_count": 21,
     "metadata": {},
     "output_type": "execute_result"
    }
   ],
   "source": [
    "# 뒤에 붙은 발생이라는 단어 삭제 - column name변경: rename\n",
    "\n",
    "\n",
    "crime_final.rename(columns = {'강간 발생':'강간',\n",
    "                            '강도 발생':'강도',\n",
    "                            '살인 발생':'살인',\n",
    "                            '절도 발생':'절도',\n",
    "                            '폭력 발생':'폭력'}, inplace = True)\n",
    "crime_final.head()"
   ]
  },
  {
   "cell_type": "code",
   "execution_count": 22,
   "metadata": {},
   "outputs": [
    {
     "data": {
      "text/html": [
       "<div>\n",
       "<style scoped>\n",
       "    .dataframe tbody tr th:only-of-type {\n",
       "        vertical-align: middle;\n",
       "    }\n",
       "\n",
       "    .dataframe tbody tr th {\n",
       "        vertical-align: top;\n",
       "    }\n",
       "\n",
       "    .dataframe thead th {\n",
       "        text-align: right;\n",
       "    }\n",
       "</style>\n",
       "<table border=\"1\" class=\"dataframe\">\n",
       "  <thead>\n",
       "    <tr style=\"text-align: right;\">\n",
       "      <th></th>\n",
       "      <th>강간</th>\n",
       "      <th>강도</th>\n",
       "      <th>살인</th>\n",
       "      <th>절도</th>\n",
       "      <th>폭력</th>\n",
       "    </tr>\n",
       "    <tr>\n",
       "      <th>자치구</th>\n",
       "      <th></th>\n",
       "      <th></th>\n",
       "      <th></th>\n",
       "      <th></th>\n",
       "      <th></th>\n",
       "    </tr>\n",
       "  </thead>\n",
       "  <tbody>\n",
       "    <tr>\n",
       "      <th>강남구</th>\n",
       "      <td>0.940379</td>\n",
       "      <td>0.941176</td>\n",
       "      <td>0.916667</td>\n",
       "      <td>0.868224</td>\n",
       "      <td>0.661386</td>\n",
       "    </tr>\n",
       "    <tr>\n",
       "      <th>강동구</th>\n",
       "      <td>0.146341</td>\n",
       "      <td>0.058824</td>\n",
       "      <td>0.166667</td>\n",
       "      <td>0.405919</td>\n",
       "      <td>0.289667</td>\n",
       "    </tr>\n",
       "    <tr>\n",
       "      <th>강북구</th>\n",
       "      <td>0.138211</td>\n",
       "      <td>0.529412</td>\n",
       "      <td>0.416667</td>\n",
       "      <td>0.115576</td>\n",
       "      <td>0.274769</td>\n",
       "    </tr>\n",
       "    <tr>\n",
       "      <th>관악구</th>\n",
       "      <td>1.000000</td>\n",
       "      <td>0.764706</td>\n",
       "      <td>0.833333</td>\n",
       "      <td>1.000000</td>\n",
       "      <td>0.913928</td>\n",
       "    </tr>\n",
       "    <tr>\n",
       "      <th>광진구</th>\n",
       "      <td>0.373984</td>\n",
       "      <td>0.529412</td>\n",
       "      <td>0.166667</td>\n",
       "      <td>0.611526</td>\n",
       "      <td>0.269094</td>\n",
       "    </tr>\n",
       "  </tbody>\n",
       "</table>\n",
       "</div>"
      ],
      "text/plain": [
       "           강간        강도        살인        절도        폭력\n",
       "자치구                                                  \n",
       "강남구  0.940379  0.941176  0.916667  0.868224  0.661386\n",
       "강동구  0.146341  0.058824  0.166667  0.405919  0.289667\n",
       "강북구  0.138211  0.529412  0.416667  0.115576  0.274769\n",
       "관악구  1.000000  0.764706  0.833333  1.000000  0.913928\n",
       "광진구  0.373984  0.529412  0.166667  0.611526  0.269094"
      ]
     },
     "execution_count": 22,
     "metadata": {},
     "output_type": "execute_result"
    },
    {
     "data": {
      "text/html": [
       "<div>\n",
       "<style scoped>\n",
       "    .dataframe tbody tr th:only-of-type {\n",
       "        vertical-align: middle;\n",
       "    }\n",
       "\n",
       "    .dataframe tbody tr th {\n",
       "        vertical-align: top;\n",
       "    }\n",
       "\n",
       "    .dataframe thead th {\n",
       "        text-align: right;\n",
       "    }\n",
       "</style>\n",
       "<table border=\"1\" class=\"dataframe\">\n",
       "  <thead>\n",
       "    <tr style=\"text-align: right;\">\n",
       "      <th></th>\n",
       "      <th>강간</th>\n",
       "      <th>강도</th>\n",
       "      <th>살인</th>\n",
       "      <th>절도</th>\n",
       "      <th>폭력</th>\n",
       "      <th>강간검거율</th>\n",
       "      <th>강도검거율</th>\n",
       "      <th>살인검거율</th>\n",
       "      <th>절도검거율</th>\n",
       "      <th>폭력검거율</th>\n",
       "    </tr>\n",
       "    <tr>\n",
       "      <th>자치구</th>\n",
       "      <th></th>\n",
       "      <th></th>\n",
       "      <th></th>\n",
       "      <th></th>\n",
       "      <th></th>\n",
       "      <th></th>\n",
       "      <th></th>\n",
       "      <th></th>\n",
       "      <th></th>\n",
       "      <th></th>\n",
       "    </tr>\n",
       "  </thead>\n",
       "  <tbody>\n",
       "    <tr>\n",
       "      <th>강남구</th>\n",
       "      <td>0.940379</td>\n",
       "      <td>0.941176</td>\n",
       "      <td>0.916667</td>\n",
       "      <td>0.868224</td>\n",
       "      <td>0.661386</td>\n",
       "      <td>77.728285</td>\n",
       "      <td>85.714286</td>\n",
       "      <td>76.923077</td>\n",
       "      <td>42.857143</td>\n",
       "      <td>86.484594</td>\n",
       "    </tr>\n",
       "    <tr>\n",
       "      <th>강동구</th>\n",
       "      <td>0.146341</td>\n",
       "      <td>0.058824</td>\n",
       "      <td>0.166667</td>\n",
       "      <td>0.405919</td>\n",
       "      <td>0.289667</td>\n",
       "      <td>78.846154</td>\n",
       "      <td>100.000000</td>\n",
       "      <td>75.000000</td>\n",
       "      <td>33.347422</td>\n",
       "      <td>82.890855</td>\n",
       "    </tr>\n",
       "    <tr>\n",
       "      <th>강북구</th>\n",
       "      <td>0.138211</td>\n",
       "      <td>0.529412</td>\n",
       "      <td>0.416667</td>\n",
       "      <td>0.115576</td>\n",
       "      <td>0.274769</td>\n",
       "      <td>82.352941</td>\n",
       "      <td>92.857143</td>\n",
       "      <td>100.000000</td>\n",
       "      <td>43.096234</td>\n",
       "      <td>88.637222</td>\n",
       "    </tr>\n",
       "    <tr>\n",
       "      <th>관악구</th>\n",
       "      <td>1.000000</td>\n",
       "      <td>0.764706</td>\n",
       "      <td>0.833333</td>\n",
       "      <td>1.000000</td>\n",
       "      <td>0.913928</td>\n",
       "      <td>72.823779</td>\n",
       "      <td>100.000000</td>\n",
       "      <td>100.000000</td>\n",
       "      <td>40.135736</td>\n",
       "      <td>82.548580</td>\n",
       "    </tr>\n",
       "    <tr>\n",
       "      <th>광진구</th>\n",
       "      <td>0.373984</td>\n",
       "      <td>0.529412</td>\n",
       "      <td>0.166667</td>\n",
       "      <td>0.611526</td>\n",
       "      <td>0.269094</td>\n",
       "      <td>91.666667</td>\n",
       "      <td>100.000000</td>\n",
       "      <td>100.000000</td>\n",
       "      <td>42.200925</td>\n",
       "      <td>83.047619</td>\n",
       "    </tr>\n",
       "  </tbody>\n",
       "</table>\n",
       "</div>"
      ],
      "text/plain": [
       "           강간        강도        살인        절도        폭력      강간검거율       강도검거율  \\\n",
       "자치구                                                                            \n",
       "강남구  0.940379  0.941176  0.916667  0.868224  0.661386  77.728285   85.714286   \n",
       "강동구  0.146341  0.058824  0.166667  0.405919  0.289667  78.846154  100.000000   \n",
       "강북구  0.138211  0.529412  0.416667  0.115576  0.274769  82.352941   92.857143   \n",
       "관악구  1.000000  0.764706  0.833333  1.000000  0.913928  72.823779  100.000000   \n",
       "광진구  0.373984  0.529412  0.166667  0.611526  0.269094  91.666667  100.000000   \n",
       "\n",
       "          살인검거율      절도검거율      폭력검거율  \n",
       "자치구                                    \n",
       "강남구   76.923077  42.857143  86.484594  \n",
       "강동구   75.000000  33.347422  82.890855  \n",
       "강북구  100.000000  43.096234  88.637222  \n",
       "관악구  100.000000  40.135736  82.548580  \n",
       "광진구  100.000000  42.200925  83.047619  "
      ]
     },
     "execution_count": 22,
     "metadata": {},
     "output_type": "execute_result"
    }
   ],
   "source": [
    "# value들의 비교를 용이하게 하기 위해 각 컬럼별로 정규화(normalize) 진행 \n",
    "\n",
    "from sklearn import preprocessing\n",
    "\n",
    "col = ['강간','강도','살인','절도','폭력']\n",
    "\n",
    "x = crime_final[col].values\n",
    "# x\n",
    "min_max_scaler = preprocessing.MinMaxScaler()  #모든 숫자를 0-1사이로 만들어줌\n",
    "\n",
    "x_scaled = min_max_scaler.fit_transform(x.astype(float))\n",
    "crime_final_norm = pd.DataFrame(x_scaled, columns = col, index = crime_final.index)\n",
    "crime_final_norm.head()\n",
    "\n",
    "col2 = ['강간검거율','강도검거율','살인검거율','절도검거율','폭력검거율'] \n",
    "crime_final_norm[col2] = crime_final[col2]  # crime_anal_norm의 column name을 crime_anal에서 가져옴\n",
    "crime_final_norm.head()\n"
   ]
  },
  {
   "cell_type": "code",
   "execution_count": 23,
   "metadata": {},
   "outputs": [
    {
     "data": {
      "text/html": [
       "<div>\n",
       "<style scoped>\n",
       "    .dataframe tbody tr th:only-of-type {\n",
       "        vertical-align: middle;\n",
       "    }\n",
       "\n",
       "    .dataframe tbody tr th {\n",
       "        vertical-align: top;\n",
       "    }\n",
       "\n",
       "    .dataframe thead th {\n",
       "        text-align: right;\n",
       "    }\n",
       "</style>\n",
       "<table border=\"1\" class=\"dataframe\">\n",
       "  <thead>\n",
       "    <tr style=\"text-align: right;\">\n",
       "      <th></th>\n",
       "      <th>소계</th>\n",
       "      <th>최근증가율</th>\n",
       "      <th>인구수</th>\n",
       "      <th>한국인</th>\n",
       "      <th>외국인</th>\n",
       "      <th>고령자</th>\n",
       "      <th>외국인비율</th>\n",
       "      <th>고령자비율</th>\n",
       "      <th>CCTV비율</th>\n",
       "      <th>오차</th>\n",
       "    </tr>\n",
       "    <tr>\n",
       "      <th>구별</th>\n",
       "      <th></th>\n",
       "      <th></th>\n",
       "      <th></th>\n",
       "      <th></th>\n",
       "      <th></th>\n",
       "      <th></th>\n",
       "      <th></th>\n",
       "      <th></th>\n",
       "      <th></th>\n",
       "      <th></th>\n",
       "    </tr>\n",
       "  </thead>\n",
       "  <tbody>\n",
       "    <tr>\n",
       "      <th>강남구</th>\n",
       "      <td>2780</td>\n",
       "      <td>150.619195</td>\n",
       "      <td>570500.0</td>\n",
       "      <td>565550.0</td>\n",
       "      <td>4950.0</td>\n",
       "      <td>63167.0</td>\n",
       "      <td>0.867660</td>\n",
       "      <td>11.072217</td>\n",
       "      <td>0.487292</td>\n",
       "      <td>1388.055355</td>\n",
       "    </tr>\n",
       "    <tr>\n",
       "      <th>강동구</th>\n",
       "      <td>773</td>\n",
       "      <td>166.490765</td>\n",
       "      <td>453233.0</td>\n",
       "      <td>449019.0</td>\n",
       "      <td>4214.0</td>\n",
       "      <td>54622.0</td>\n",
       "      <td>0.929765</td>\n",
       "      <td>12.051638</td>\n",
       "      <td>0.170552</td>\n",
       "      <td>465.422892</td>\n",
       "    </tr>\n",
       "    <tr>\n",
       "      <th>강북구</th>\n",
       "      <td>748</td>\n",
       "      <td>125.203252</td>\n",
       "      <td>330192.0</td>\n",
       "      <td>326686.0</td>\n",
       "      <td>3506.0</td>\n",
       "      <td>54813.0</td>\n",
       "      <td>1.061806</td>\n",
       "      <td>16.600342</td>\n",
       "      <td>0.226535</td>\n",
       "      <td>329.342026</td>\n",
       "    </tr>\n",
       "    <tr>\n",
       "      <th>강서구</th>\n",
       "      <td>884</td>\n",
       "      <td>134.793814</td>\n",
       "      <td>603772.0</td>\n",
       "      <td>597248.0</td>\n",
       "      <td>6524.0</td>\n",
       "      <td>72548.0</td>\n",
       "      <td>1.080540</td>\n",
       "      <td>12.015794</td>\n",
       "      <td>0.146413</td>\n",
       "      <td>551.503155</td>\n",
       "    </tr>\n",
       "    <tr>\n",
       "      <th>관악구</th>\n",
       "      <td>1496</td>\n",
       "      <td>149.290780</td>\n",
       "      <td>525515.0</td>\n",
       "      <td>507203.0</td>\n",
       "      <td>18312.0</td>\n",
       "      <td>68082.0</td>\n",
       "      <td>3.484582</td>\n",
       "      <td>12.955291</td>\n",
       "      <td>0.284673</td>\n",
       "      <td>162.948104</td>\n",
       "    </tr>\n",
       "  </tbody>\n",
       "</table>\n",
       "</div>"
      ],
      "text/plain": [
       "       소계       최근증가율       인구수       한국인      외국인      고령자     외국인비율  \\\n",
       "구별                                                                      \n",
       "강남구  2780  150.619195  570500.0  565550.0   4950.0  63167.0  0.867660   \n",
       "강동구   773  166.490765  453233.0  449019.0   4214.0  54622.0  0.929765   \n",
       "강북구   748  125.203252  330192.0  326686.0   3506.0  54813.0  1.061806   \n",
       "강서구   884  134.793814  603772.0  597248.0   6524.0  72548.0  1.080540   \n",
       "관악구  1496  149.290780  525515.0  507203.0  18312.0  68082.0  3.484582   \n",
       "\n",
       "         고령자비율    CCTV비율           오차  \n",
       "구별                                     \n",
       "강남구  11.072217  0.487292  1388.055355  \n",
       "강동구  12.051638  0.170552   465.422892  \n",
       "강북구  16.600342  0.226535   329.342026  \n",
       "강서구  12.015794  0.146413   551.503155  \n",
       "관악구  12.955291  0.284673   162.948104  "
      ]
     },
     "execution_count": 23,
     "metadata": {},
     "output_type": "execute_result"
    },
    {
     "data": {
      "text/html": [
       "<div>\n",
       "<style scoped>\n",
       "    .dataframe tbody tr th:only-of-type {\n",
       "        vertical-align: middle;\n",
       "    }\n",
       "\n",
       "    .dataframe tbody tr th {\n",
       "        vertical-align: top;\n",
       "    }\n",
       "\n",
       "    .dataframe thead th {\n",
       "        text-align: right;\n",
       "    }\n",
       "</style>\n",
       "<table border=\"1\" class=\"dataframe\">\n",
       "  <thead>\n",
       "    <tr style=\"text-align: right;\">\n",
       "      <th></th>\n",
       "      <th>강간</th>\n",
       "      <th>강도</th>\n",
       "      <th>살인</th>\n",
       "      <th>절도</th>\n",
       "      <th>폭력</th>\n",
       "      <th>강간검거율</th>\n",
       "      <th>강도검거율</th>\n",
       "      <th>살인검거율</th>\n",
       "      <th>절도검거율</th>\n",
       "      <th>폭력검거율</th>\n",
       "      <th>인구수</th>\n",
       "      <th>CCTV수</th>\n",
       "    </tr>\n",
       "    <tr>\n",
       "      <th>자치구</th>\n",
       "      <th></th>\n",
       "      <th></th>\n",
       "      <th></th>\n",
       "      <th></th>\n",
       "      <th></th>\n",
       "      <th></th>\n",
       "      <th></th>\n",
       "      <th></th>\n",
       "      <th></th>\n",
       "      <th></th>\n",
       "      <th></th>\n",
       "      <th></th>\n",
       "    </tr>\n",
       "  </thead>\n",
       "  <tbody>\n",
       "    <tr>\n",
       "      <th>강남구</th>\n",
       "      <td>0.940379</td>\n",
       "      <td>0.941176</td>\n",
       "      <td>0.916667</td>\n",
       "      <td>0.868224</td>\n",
       "      <td>0.661386</td>\n",
       "      <td>77.728285</td>\n",
       "      <td>85.714286</td>\n",
       "      <td>76.923077</td>\n",
       "      <td>42.857143</td>\n",
       "      <td>86.484594</td>\n",
       "      <td>570500.0</td>\n",
       "      <td>2780</td>\n",
       "    </tr>\n",
       "    <tr>\n",
       "      <th>강동구</th>\n",
       "      <td>0.146341</td>\n",
       "      <td>0.058824</td>\n",
       "      <td>0.166667</td>\n",
       "      <td>0.405919</td>\n",
       "      <td>0.289667</td>\n",
       "      <td>78.846154</td>\n",
       "      <td>100.000000</td>\n",
       "      <td>75.000000</td>\n",
       "      <td>33.347422</td>\n",
       "      <td>82.890855</td>\n",
       "      <td>453233.0</td>\n",
       "      <td>773</td>\n",
       "    </tr>\n",
       "    <tr>\n",
       "      <th>강북구</th>\n",
       "      <td>0.138211</td>\n",
       "      <td>0.529412</td>\n",
       "      <td>0.416667</td>\n",
       "      <td>0.115576</td>\n",
       "      <td>0.274769</td>\n",
       "      <td>82.352941</td>\n",
       "      <td>92.857143</td>\n",
       "      <td>100.000000</td>\n",
       "      <td>43.096234</td>\n",
       "      <td>88.637222</td>\n",
       "      <td>330192.0</td>\n",
       "      <td>748</td>\n",
       "    </tr>\n",
       "    <tr>\n",
       "      <th>관악구</th>\n",
       "      <td>1.000000</td>\n",
       "      <td>0.764706</td>\n",
       "      <td>0.833333</td>\n",
       "      <td>1.000000</td>\n",
       "      <td>0.913928</td>\n",
       "      <td>72.823779</td>\n",
       "      <td>100.000000</td>\n",
       "      <td>100.000000</td>\n",
       "      <td>40.135736</td>\n",
       "      <td>82.548580</td>\n",
       "      <td>525515.0</td>\n",
       "      <td>1496</td>\n",
       "    </tr>\n",
       "    <tr>\n",
       "      <th>광진구</th>\n",
       "      <td>0.373984</td>\n",
       "      <td>0.529412</td>\n",
       "      <td>0.166667</td>\n",
       "      <td>0.611526</td>\n",
       "      <td>0.269094</td>\n",
       "      <td>91.666667</td>\n",
       "      <td>100.000000</td>\n",
       "      <td>100.000000</td>\n",
       "      <td>42.200925</td>\n",
       "      <td>83.047619</td>\n",
       "      <td>372164.0</td>\n",
       "      <td>707</td>\n",
       "    </tr>\n",
       "  </tbody>\n",
       "</table>\n",
       "</div>"
      ],
      "text/plain": [
       "           강간        강도        살인        절도        폭력      강간검거율       강도검거율  \\\n",
       "자치구                                                                            \n",
       "강남구  0.940379  0.941176  0.916667  0.868224  0.661386  77.728285   85.714286   \n",
       "강동구  0.146341  0.058824  0.166667  0.405919  0.289667  78.846154  100.000000   \n",
       "강북구  0.138211  0.529412  0.416667  0.115576  0.274769  82.352941   92.857143   \n",
       "관악구  1.000000  0.764706  0.833333  1.000000  0.913928  72.823779  100.000000   \n",
       "광진구  0.373984  0.529412  0.166667  0.611526  0.269094  91.666667  100.000000   \n",
       "\n",
       "          살인검거율      절도검거율      폭력검거율       인구수  CCTV수  \n",
       "자치구                                                     \n",
       "강남구   76.923077  42.857143  86.484594  570500.0   2780  \n",
       "강동구   75.000000  33.347422  82.890855  453233.0    773  \n",
       "강북구  100.000000  43.096234  88.637222  330192.0    748  \n",
       "관악구  100.000000  40.135736  82.548580  525515.0   1496  \n",
       "광진구  100.000000  42.200925  83.047619  372164.0    707  "
      ]
     },
     "execution_count": 23,
     "metadata": {},
     "output_type": "execute_result"
    }
   ],
   "source": [
    "# ch1 에서 했던 cctv데이터 가져오기 \n",
    "\n",
    "result_cctv = pd.read_csv('../data/01. CCTV_result.csv', encoding = 'utf-8', index_col = '구별')\n",
    "result_cctv.head()\n",
    "\n",
    "crime_final_norm[['인구수', 'CCTV수']] = result_cctv[['인구수', '소계']]\n",
    "crime_final_norm.head()\n"
   ]
  },
  {
   "cell_type": "code",
   "execution_count": 24,
   "metadata": {},
   "outputs": [
    {
     "data": {
      "text/html": [
       "<div>\n",
       "<style scoped>\n",
       "    .dataframe tbody tr th:only-of-type {\n",
       "        vertical-align: middle;\n",
       "    }\n",
       "\n",
       "    .dataframe tbody tr th {\n",
       "        vertical-align: top;\n",
       "    }\n",
       "\n",
       "    .dataframe thead th {\n",
       "        text-align: right;\n",
       "    }\n",
       "</style>\n",
       "<table border=\"1\" class=\"dataframe\">\n",
       "  <thead>\n",
       "    <tr style=\"text-align: right;\">\n",
       "      <th></th>\n",
       "      <th>강간</th>\n",
       "      <th>강도</th>\n",
       "      <th>살인</th>\n",
       "      <th>절도</th>\n",
       "      <th>폭력</th>\n",
       "      <th>강간검거율</th>\n",
       "      <th>강도검거율</th>\n",
       "      <th>살인검거율</th>\n",
       "      <th>절도검거율</th>\n",
       "      <th>폭력검거율</th>\n",
       "      <th>인구수</th>\n",
       "      <th>CCTV수</th>\n",
       "      <th>범죄수총합</th>\n",
       "      <th>검거율총합</th>\n",
       "    </tr>\n",
       "    <tr>\n",
       "      <th>자치구</th>\n",
       "      <th></th>\n",
       "      <th></th>\n",
       "      <th></th>\n",
       "      <th></th>\n",
       "      <th></th>\n",
       "      <th></th>\n",
       "      <th></th>\n",
       "      <th></th>\n",
       "      <th></th>\n",
       "      <th></th>\n",
       "      <th></th>\n",
       "      <th></th>\n",
       "      <th></th>\n",
       "      <th></th>\n",
       "    </tr>\n",
       "  </thead>\n",
       "  <tbody>\n",
       "    <tr>\n",
       "      <th>강남구</th>\n",
       "      <td>0.940379</td>\n",
       "      <td>0.941176</td>\n",
       "      <td>0.916667</td>\n",
       "      <td>0.868224</td>\n",
       "      <td>0.661386</td>\n",
       "      <td>77.728285</td>\n",
       "      <td>85.714286</td>\n",
       "      <td>76.923077</td>\n",
       "      <td>42.857143</td>\n",
       "      <td>86.484594</td>\n",
       "      <td>570500.0</td>\n",
       "      <td>2780</td>\n",
       "      <td>4.327833</td>\n",
       "      <td>369.707384</td>\n",
       "    </tr>\n",
       "    <tr>\n",
       "      <th>강동구</th>\n",
       "      <td>0.146341</td>\n",
       "      <td>0.058824</td>\n",
       "      <td>0.166667</td>\n",
       "      <td>0.405919</td>\n",
       "      <td>0.289667</td>\n",
       "      <td>78.846154</td>\n",
       "      <td>100.000000</td>\n",
       "      <td>75.000000</td>\n",
       "      <td>33.347422</td>\n",
       "      <td>82.890855</td>\n",
       "      <td>453233.0</td>\n",
       "      <td>773</td>\n",
       "      <td>1.067417</td>\n",
       "      <td>370.084431</td>\n",
       "    </tr>\n",
       "    <tr>\n",
       "      <th>강북구</th>\n",
       "      <td>0.138211</td>\n",
       "      <td>0.529412</td>\n",
       "      <td>0.416667</td>\n",
       "      <td>0.115576</td>\n",
       "      <td>0.274769</td>\n",
       "      <td>82.352941</td>\n",
       "      <td>92.857143</td>\n",
       "      <td>100.000000</td>\n",
       "      <td>43.096234</td>\n",
       "      <td>88.637222</td>\n",
       "      <td>330192.0</td>\n",
       "      <td>748</td>\n",
       "      <td>1.474636</td>\n",
       "      <td>406.943540</td>\n",
       "    </tr>\n",
       "    <tr>\n",
       "      <th>관악구</th>\n",
       "      <td>1.000000</td>\n",
       "      <td>0.764706</td>\n",
       "      <td>0.833333</td>\n",
       "      <td>1.000000</td>\n",
       "      <td>0.913928</td>\n",
       "      <td>72.823779</td>\n",
       "      <td>100.000000</td>\n",
       "      <td>100.000000</td>\n",
       "      <td>40.135736</td>\n",
       "      <td>82.548580</td>\n",
       "      <td>525515.0</td>\n",
       "      <td>1496</td>\n",
       "      <td>4.511967</td>\n",
       "      <td>395.508095</td>\n",
       "    </tr>\n",
       "    <tr>\n",
       "      <th>광진구</th>\n",
       "      <td>0.373984</td>\n",
       "      <td>0.529412</td>\n",
       "      <td>0.166667</td>\n",
       "      <td>0.611526</td>\n",
       "      <td>0.269094</td>\n",
       "      <td>91.666667</td>\n",
       "      <td>100.000000</td>\n",
       "      <td>100.000000</td>\n",
       "      <td>42.200925</td>\n",
       "      <td>83.047619</td>\n",
       "      <td>372164.0</td>\n",
       "      <td>707</td>\n",
       "      <td>1.950683</td>\n",
       "      <td>416.915211</td>\n",
       "    </tr>\n",
       "  </tbody>\n",
       "</table>\n",
       "</div>"
      ],
      "text/plain": [
       "           강간        강도        살인        절도        폭력      강간검거율       강도검거율  \\\n",
       "자치구                                                                            \n",
       "강남구  0.940379  0.941176  0.916667  0.868224  0.661386  77.728285   85.714286   \n",
       "강동구  0.146341  0.058824  0.166667  0.405919  0.289667  78.846154  100.000000   \n",
       "강북구  0.138211  0.529412  0.416667  0.115576  0.274769  82.352941   92.857143   \n",
       "관악구  1.000000  0.764706  0.833333  1.000000  0.913928  72.823779  100.000000   \n",
       "광진구  0.373984  0.529412  0.166667  0.611526  0.269094  91.666667  100.000000   \n",
       "\n",
       "          살인검거율      절도검거율      폭력검거율       인구수  CCTV수     범죄수총합       검거율총합  \n",
       "자치구                                                                           \n",
       "강남구   76.923077  42.857143  86.484594  570500.0   2780  4.327833  369.707384  \n",
       "강동구   75.000000  33.347422  82.890855  453233.0    773  1.067417  370.084431  \n",
       "강북구  100.000000  43.096234  88.637222  330192.0    748  1.474636  406.943540  \n",
       "관악구  100.000000  40.135736  82.548580  525515.0   1496  4.511967  395.508095  \n",
       "광진구  100.000000  42.200925  83.047619  372164.0    707  1.950683  416.915211  "
      ]
     },
     "execution_count": 24,
     "metadata": {},
     "output_type": "execute_result"
    }
   ],
   "source": [
    "#발생건수의 합 '범죄수총합'\n",
    "\n",
    "col1 = ['강간','강도','살인','절도','폭력']\n",
    "\n",
    "crime_final_norm['범죄수총합'] = np.sum(crime_final_norm[col1],axis = 1)\n",
    "\n",
    "col2 = ['강간검거율', '강도검거율','살인검거율','절도검거율','폭력검거율']\n",
    "crime_final_norm['검거율총합'] = np.sum(crime_final_norm[col2],axis = 1)\n",
    "\n",
    "crime_final_norm.head()"
   ]
  },
  {
   "cell_type": "code",
   "execution_count": 25,
   "metadata": {},
   "outputs": [],
   "source": [
    "import matplotlib.pyplot as plt\n",
    "%matplotlib inline\n",
    "\n",
    "import seaborn as sns\n"
   ]
  },
  {
   "cell_type": "markdown",
   "metadata": {},
   "source": [
    "# 범죄데이터 시각화"
   ]
  },
  {
   "cell_type": "code",
   "execution_count": 26,
   "metadata": {},
   "outputs": [
    {
     "name": "stdout",
     "output_type": "stream",
     "text": [
      "You have Mac OS\n"
     ]
    }
   ],
   "source": [
    "#그래프에 대한 한글 폰트문제 해결\n",
    "import platform \n",
    "from matplotlib import font_manager, rc\n",
    "\n",
    "if platform.system() == 'Darwin':\n",
    "    rc('font', family = 'AppleGothic')\n",
    "    print(\"You have Mac OS\")\n",
    "elif platform.system() == 'Windows':\n",
    "    path = \"c:/Windows/Fonts/malgun.ttf\"\n",
    "    font_name = font_manager.FontProperties(fname = path).get_name()\n",
    "    rc('font', family = font_name)\n",
    "    print(\"You have Window\")\n",
    "else: \n",
    "    print(\"Unkwon system..\")"
   ]
  },
  {
   "cell_type": "code",
   "execution_count": 27,
   "metadata": {},
   "outputs": [
    {
     "data": {
      "text/plain": [
       "<seaborn.axisgrid.PairGrid at 0x1a1a365b70>"
      ]
     },
     "execution_count": 27,
     "metadata": {},
     "output_type": "execute_result"
    },
    {
     "data": {
      "image/png": "[encoded data removed]",
      "text/plain": [
       "<Figure size 648x648 with 12 Axes>"
      ]
     },
     "metadata": {
      "needs_background": "light"
     },
     "output_type": "display_data"
    }
   ],
   "source": [
    "sns.pairplot(crime_final_norm, vars = ['강도','살인','폭력'], kind = 'reg', height = 3)\n",
    "plt.show()"
   ]
  },
  {
   "cell_type": "code",
   "execution_count": 28,
   "metadata": {},
   "outputs": [
    {
     "data": {
      "text/plain": [
       "<seaborn.axisgrid.PairGrid at 0x1a1ac7aa90>"
      ]
     },
     "execution_count": 28,
     "metadata": {},
     "output_type": "execute_result"
    },
    {
     "data": {
      "image/png": "[encoded data removed]",
      "text/plain": [
       "<Figure size 432x432 with 4 Axes>"
      ]
     },
     "metadata": {
      "needs_background": "light"
     },
     "output_type": "display_data"
    }
   ],
   "source": [
    "sns.pairplot(crime_final_norm, x_vars = ['인구수','CCTV수'], y_vars = ['살인','강도'],kind = 'reg', height = 3)\n",
    "plt.show()"
   ]
  },
  {
   "cell_type": "code",
   "execution_count": 29,
   "metadata": {},
   "outputs": [
    {
     "data": {
      "text/plain": [
       "<seaborn.axisgrid.PairGrid at 0x1a1b02ca20>"
      ]
     },
     "execution_count": 29,
     "metadata": {},
     "output_type": "execute_result"
    },
    {
     "data": {
      "image/png": "[encoded data removed]",
      "text/plain": [
       "<Figure size 432x432 with 4 Axes>"
      ]
     },
     "metadata": {
      "needs_background": "light"
     },
     "output_type": "display_data"
    }
   ],
   "source": [
    "sns.pairplot(crime_final_norm, x_vars = ['인구수','CCTV수'], y_vars = ['살인검거율','폭력검거율'],kind = 'reg', height = 3)\n",
    "plt.show()"
   ]
  },
  {
   "cell_type": "code",
   "execution_count": 30,
   "metadata": {},
   "outputs": [
    {
     "data": {
      "text/html": [
       "<div>\n",
       "<style scoped>\n",
       "    .dataframe tbody tr th:only-of-type {\n",
       "        vertical-align: middle;\n",
       "    }\n",
       "\n",
       "    .dataframe tbody tr th {\n",
       "        vertical-align: top;\n",
       "    }\n",
       "\n",
       "    .dataframe thead th {\n",
       "        text-align: right;\n",
       "    }\n",
       "</style>\n",
       "<table border=\"1\" class=\"dataframe\">\n",
       "  <thead>\n",
       "    <tr style=\"text-align: right;\">\n",
       "      <th></th>\n",
       "      <th>강간</th>\n",
       "      <th>강도</th>\n",
       "      <th>살인</th>\n",
       "      <th>절도</th>\n",
       "      <th>폭력</th>\n",
       "      <th>강간검거율</th>\n",
       "      <th>강도검거율</th>\n",
       "      <th>살인검거율</th>\n",
       "      <th>절도검거율</th>\n",
       "      <th>폭력검거율</th>\n",
       "      <th>인구수</th>\n",
       "      <th>CCTV수</th>\n",
       "      <th>범죄수총합</th>\n",
       "      <th>검거율총합</th>\n",
       "      <th>범죄수avg</th>\n",
       "    </tr>\n",
       "    <tr>\n",
       "      <th>자치구</th>\n",
       "      <th></th>\n",
       "      <th></th>\n",
       "      <th></th>\n",
       "      <th></th>\n",
       "      <th></th>\n",
       "      <th></th>\n",
       "      <th></th>\n",
       "      <th></th>\n",
       "      <th></th>\n",
       "      <th></th>\n",
       "      <th></th>\n",
       "      <th></th>\n",
       "      <th></th>\n",
       "      <th></th>\n",
       "      <th></th>\n",
       "    </tr>\n",
       "  </thead>\n",
       "  <tbody>\n",
       "    <tr>\n",
       "      <th>관악구</th>\n",
       "      <td>1.000000</td>\n",
       "      <td>0.764706</td>\n",
       "      <td>0.833333</td>\n",
       "      <td>1.000000</td>\n",
       "      <td>0.913928</td>\n",
       "      <td>72.823779</td>\n",
       "      <td>100.000000</td>\n",
       "      <td>100.000000</td>\n",
       "      <td>40.135736</td>\n",
       "      <td>82.548580</td>\n",
       "      <td>525515.0</td>\n",
       "      <td>1496</td>\n",
       "      <td>4.511967</td>\n",
       "      <td>395.508095</td>\n",
       "      <td>0.902393</td>\n",
       "    </tr>\n",
       "    <tr>\n",
       "      <th>강남구</th>\n",
       "      <td>0.940379</td>\n",
       "      <td>0.941176</td>\n",
       "      <td>0.916667</td>\n",
       "      <td>0.868224</td>\n",
       "      <td>0.661386</td>\n",
       "      <td>77.728285</td>\n",
       "      <td>85.714286</td>\n",
       "      <td>76.923077</td>\n",
       "      <td>42.857143</td>\n",
       "      <td>86.484594</td>\n",
       "      <td>570500.0</td>\n",
       "      <td>2780</td>\n",
       "      <td>4.327833</td>\n",
       "      <td>369.707384</td>\n",
       "      <td>0.865567</td>\n",
       "    </tr>\n",
       "    <tr>\n",
       "      <th>양천구</th>\n",
       "      <td>0.758808</td>\n",
       "      <td>0.823529</td>\n",
       "      <td>0.666667</td>\n",
       "      <td>0.910592</td>\n",
       "      <td>1.000000</td>\n",
       "      <td>77.486911</td>\n",
       "      <td>84.210526</td>\n",
       "      <td>100.000000</td>\n",
       "      <td>48.469644</td>\n",
       "      <td>83.065080</td>\n",
       "      <td>479978.0</td>\n",
       "      <td>2034</td>\n",
       "      <td>4.159596</td>\n",
       "      <td>393.232162</td>\n",
       "      <td>0.831919</td>\n",
       "    </tr>\n",
       "    <tr>\n",
       "      <th>영등포구</th>\n",
       "      <td>0.523035</td>\n",
       "      <td>1.000000</td>\n",
       "      <td>1.000000</td>\n",
       "      <td>0.592212</td>\n",
       "      <td>0.493024</td>\n",
       "      <td>62.033898</td>\n",
       "      <td>90.909091</td>\n",
       "      <td>85.714286</td>\n",
       "      <td>32.995951</td>\n",
       "      <td>82.894737</td>\n",
       "      <td>402985.0</td>\n",
       "      <td>904</td>\n",
       "      <td>3.608271</td>\n",
       "      <td>354.547963</td>\n",
       "      <td>0.721654</td>\n",
       "    </tr>\n",
       "    <tr>\n",
       "      <th>송파구</th>\n",
       "      <td>0.319783</td>\n",
       "      <td>0.470588</td>\n",
       "      <td>0.750000</td>\n",
       "      <td>0.677882</td>\n",
       "      <td>0.427524</td>\n",
       "      <td>80.909091</td>\n",
       "      <td>76.923077</td>\n",
       "      <td>90.909091</td>\n",
       "      <td>34.856437</td>\n",
       "      <td>84.552352</td>\n",
       "      <td>667483.0</td>\n",
       "      <td>618</td>\n",
       "      <td>2.645777</td>\n",
       "      <td>368.150048</td>\n",
       "      <td>0.529155</td>\n",
       "    </tr>\n",
       "  </tbody>\n",
       "</table>\n",
       "</div>"
      ],
      "text/plain": [
       "            강간        강도        살인        절도        폭력      강간검거율       강도검거율  \\\n",
       "자치구                                                                             \n",
       "관악구   1.000000  0.764706  0.833333  1.000000  0.913928  72.823779  100.000000   \n",
       "강남구   0.940379  0.941176  0.916667  0.868224  0.661386  77.728285   85.714286   \n",
       "양천구   0.758808  0.823529  0.666667  0.910592  1.000000  77.486911   84.210526   \n",
       "영등포구  0.523035  1.000000  1.000000  0.592212  0.493024  62.033898   90.909091   \n",
       "송파구   0.319783  0.470588  0.750000  0.677882  0.427524  80.909091   76.923077   \n",
       "\n",
       "           살인검거율      절도검거율      폭력검거율       인구수  CCTV수     범죄수총합       검거율총합  \\\n",
       "자치구                                                                             \n",
       "관악구   100.000000  40.135736  82.548580  525515.0   1496  4.511967  395.508095   \n",
       "강남구    76.923077  42.857143  86.484594  570500.0   2780  4.327833  369.707384   \n",
       "양천구   100.000000  48.469644  83.065080  479978.0   2034  4.159596  393.232162   \n",
       "영등포구   85.714286  32.995951  82.894737  402985.0    904  3.608271  354.547963   \n",
       "송파구    90.909091  34.856437  84.552352  667483.0    618  2.645777  368.150048   \n",
       "\n",
       "        범죄수avg  \n",
       "자치구             \n",
       "관악구   0.902393  \n",
       "강남구   0.865567  \n",
       "양천구   0.831919  \n",
       "영등포구  0.721654  \n",
       "송파구   0.529155  "
      ]
     },
     "execution_count": 30,
     "metadata": {},
     "output_type": "execute_result"
    }
   ],
   "source": [
    "# 범죄수 합으로 정렬해서 관찰 \n",
    "target_col = ['강간','강도','살인','절도','폭력','범죄수avg']\n",
    "crime_final_norm['범죄수avg'] = crime_final_norm['범죄수총합']/5\n",
    "crime_final_norm_sort = crime_final_norm.sort_values(by = '범죄수avg', ascending = False)\n",
    "# crime_final_norm_sort.head(10)\n",
    "# crime_final_norm['범죄수총합'] = crime_final_norm['범죄수평균']\n",
    "crime_final_norm_sort.head()"
   ]
  },
  {
   "cell_type": "code",
   "execution_count": 31,
   "metadata": {},
   "outputs": [
    {
     "data": {
      "text/plain": [
       "<Figure size 720x720 with 0 Axes>"
      ]
     },
     "execution_count": 31,
     "metadata": {},
     "output_type": "execute_result"
    },
    {
     "data": {
      "text/plain": [
       "<matplotlib.axes._subplots.AxesSubplot at 0x1a1b256cf8>"
      ]
     },
     "execution_count": 31,
     "metadata": {},
     "output_type": "execute_result"
    },
    {
     "data": {
      "text/plain": [
       "Text(0.5, 1.0, '범죄비율 (정규화된 발생 건수로 정렬)')"
      ]
     },
     "execution_count": 31,
     "metadata": {},
     "output_type": "execute_result"
    },
    {
     "data": {
      "image/png": "[encoded data removed]",
      "text/plain": [
       "<Figure size 720x720 with 2 Axes>"
      ]
     },
     "metadata": {
      "needs_background": "light"
     },
     "output_type": "display_data"
    }
   ],
   "source": [
    "plt.figure(figsize = (10,10))\n",
    "sns.heatmap(crime_final_norm_sort[target_col], annot =True, fmt = 'f', linewidths = .5)\n",
    "plt.title(\"범죄비율 (정규화된 발생 건수로 정렬)\")\n",
    "plt.show()"
   ]
  },
  {
   "cell_type": "code",
   "execution_count": 32,
   "metadata": {},
   "outputs": [
    {
     "data": {
      "text/html": [
       "<div>\n",
       "<style scoped>\n",
       "    .dataframe tbody tr th:only-of-type {\n",
       "        vertical-align: middle;\n",
       "    }\n",
       "\n",
       "    .dataframe tbody tr th {\n",
       "        vertical-align: top;\n",
       "    }\n",
       "\n",
       "    .dataframe thead th {\n",
       "        text-align: right;\n",
       "    }\n",
       "</style>\n",
       "<table border=\"1\" class=\"dataframe\">\n",
       "  <thead>\n",
       "    <tr style=\"text-align: right;\">\n",
       "      <th></th>\n",
       "      <th>강간</th>\n",
       "      <th>강도</th>\n",
       "      <th>살인</th>\n",
       "      <th>절도</th>\n",
       "      <th>폭력</th>\n",
       "      <th>강간검거율</th>\n",
       "      <th>강도검거율</th>\n",
       "      <th>살인검거율</th>\n",
       "      <th>절도검거율</th>\n",
       "      <th>폭력검거율</th>\n",
       "      <th>인구수</th>\n",
       "      <th>CCTV수</th>\n",
       "      <th>범죄수총합</th>\n",
       "      <th>검거율총합</th>\n",
       "      <th>범죄수avg</th>\n",
       "    </tr>\n",
       "    <tr>\n",
       "      <th>자치구</th>\n",
       "      <th></th>\n",
       "      <th></th>\n",
       "      <th></th>\n",
       "      <th></th>\n",
       "      <th></th>\n",
       "      <th></th>\n",
       "      <th></th>\n",
       "      <th></th>\n",
       "      <th></th>\n",
       "      <th></th>\n",
       "      <th></th>\n",
       "      <th></th>\n",
       "      <th></th>\n",
       "      <th></th>\n",
       "      <th></th>\n",
       "    </tr>\n",
       "  </thead>\n",
       "  <tbody>\n",
       "    <tr>\n",
       "      <th>도봉구</th>\n",
       "      <td>0.000000</td>\n",
       "      <td>0.235294</td>\n",
       "      <td>0.083333</td>\n",
       "      <td>0.000000</td>\n",
       "      <td>0.000000</td>\n",
       "      <td>100.000000</td>\n",
       "      <td>100.000000</td>\n",
       "      <td>100.0</td>\n",
       "      <td>44.967074</td>\n",
       "      <td>87.626093</td>\n",
       "      <td>348646.0</td>\n",
       "      <td>485</td>\n",
       "      <td>0.318627</td>\n",
       "      <td>100.00000</td>\n",
       "      <td>0.063725</td>\n",
       "    </tr>\n",
       "    <tr>\n",
       "      <th>광진구</th>\n",
       "      <td>0.373984</td>\n",
       "      <td>0.529412</td>\n",
       "      <td>0.166667</td>\n",
       "      <td>0.611526</td>\n",
       "      <td>0.269094</td>\n",
       "      <td>91.666667</td>\n",
       "      <td>100.000000</td>\n",
       "      <td>100.0</td>\n",
       "      <td>42.200925</td>\n",
       "      <td>83.047619</td>\n",
       "      <td>372164.0</td>\n",
       "      <td>707</td>\n",
       "      <td>1.950683</td>\n",
       "      <td>96.37582</td>\n",
       "      <td>0.390137</td>\n",
       "    </tr>\n",
       "    <tr>\n",
       "      <th>동대문구</th>\n",
       "      <td>0.192412</td>\n",
       "      <td>0.470588</td>\n",
       "      <td>0.250000</td>\n",
       "      <td>0.285981</td>\n",
       "      <td>0.250887</td>\n",
       "      <td>84.393064</td>\n",
       "      <td>100.000000</td>\n",
       "      <td>100.0</td>\n",
       "      <td>41.090358</td>\n",
       "      <td>87.401884</td>\n",
       "      <td>369496.0</td>\n",
       "      <td>1294</td>\n",
       "      <td>1.449868</td>\n",
       "      <td>95.44425</td>\n",
       "      <td>0.289974</td>\n",
       "    </tr>\n",
       "    <tr>\n",
       "      <th>용산구</th>\n",
       "      <td>0.249322</td>\n",
       "      <td>0.529412</td>\n",
       "      <td>0.250000</td>\n",
       "      <td>0.153894</td>\n",
       "      <td>0.133128</td>\n",
       "      <td>89.175258</td>\n",
       "      <td>100.000000</td>\n",
       "      <td>100.0</td>\n",
       "      <td>37.700706</td>\n",
       "      <td>83.121951</td>\n",
       "      <td>244203.0</td>\n",
       "      <td>1624</td>\n",
       "      <td>1.315757</td>\n",
       "      <td>94.77679</td>\n",
       "      <td>0.263151</td>\n",
       "    </tr>\n",
       "    <tr>\n",
       "      <th>성동구</th>\n",
       "      <td>0.065041</td>\n",
       "      <td>0.235294</td>\n",
       "      <td>0.166667</td>\n",
       "      <td>0.169470</td>\n",
       "      <td>0.029558</td>\n",
       "      <td>94.444444</td>\n",
       "      <td>88.888889</td>\n",
       "      <td>100.0</td>\n",
       "      <td>37.149969</td>\n",
       "      <td>86.538462</td>\n",
       "      <td>311244.0</td>\n",
       "      <td>1062</td>\n",
       "      <td>0.666030</td>\n",
       "      <td>94.08881</td>\n",
       "      <td>0.133206</td>\n",
       "    </tr>\n",
       "  </tbody>\n",
       "</table>\n",
       "</div>"
      ],
      "text/plain": [
       "            강간        강도        살인        절도        폭력       강간검거율  \\\n",
       "자치구                                                                  \n",
       "도봉구   0.000000  0.235294  0.083333  0.000000  0.000000  100.000000   \n",
       "광진구   0.373984  0.529412  0.166667  0.611526  0.269094   91.666667   \n",
       "동대문구  0.192412  0.470588  0.250000  0.285981  0.250887   84.393064   \n",
       "용산구   0.249322  0.529412  0.250000  0.153894  0.133128   89.175258   \n",
       "성동구   0.065041  0.235294  0.166667  0.169470  0.029558   94.444444   \n",
       "\n",
       "           강도검거율  살인검거율      절도검거율      폭력검거율       인구수  CCTV수     범죄수총합  \\\n",
       "자치구                                                                        \n",
       "도봉구   100.000000  100.0  44.967074  87.626093  348646.0    485  0.318627   \n",
       "광진구   100.000000  100.0  42.200925  83.047619  372164.0    707  1.950683   \n",
       "동대문구  100.000000  100.0  41.090358  87.401884  369496.0   1294  1.449868   \n",
       "용산구   100.000000  100.0  37.700706  83.121951  244203.0   1624  1.315757   \n",
       "성동구    88.888889  100.0  37.149969  86.538462  311244.0   1062  0.666030   \n",
       "\n",
       "          검거율총합    범죄수avg  \n",
       "자치구                        \n",
       "도봉구   100.00000  0.063725  \n",
       "광진구    96.37582  0.390137  \n",
       "동대문구   95.44425  0.289974  \n",
       "용산구    94.77679  0.263151  \n",
       "성동구    94.08881  0.133206  "
      ]
     },
     "execution_count": 32,
     "metadata": {},
     "output_type": "execute_result"
    }
   ],
   "source": [
    "# 검거율 총합의 최고값을 100으로 한정하고, 지수화시키기\n",
    "\n",
    "tmp_max = crime_final_norm['검거율총합'].max()\n",
    "crime_final_norm['검거율총합'] = crime_final_norm['검거율총합']/tmp_max*100\n",
    "crime_final_norm_sort = crime_final_norm.sort_values(by='검거율총합', ascending = False)\n",
    "crime_final_norm_sort.head()"
   ]
  },
  {
   "cell_type": "code",
   "execution_count": 33,
   "metadata": {},
   "outputs": [
    {
     "data": {
      "text/plain": [
       "<Figure size 720x720 with 0 Axes>"
      ]
     },
     "execution_count": 33,
     "metadata": {},
     "output_type": "execute_result"
    },
    {
     "data": {
      "text/plain": [
       "<matplotlib.axes._subplots.AxesSubplot at 0x1a1b65a048>"
      ]
     },
     "execution_count": 33,
     "metadata": {},
     "output_type": "execute_result"
    },
    {
     "data": {
      "text/plain": [
       "Text(0.5, 1.0, '범죄 검거 비율 (정규화된 검거의 합으로 정렬)')"
      ]
     },
     "execution_count": 33,
     "metadata": {},
     "output_type": "execute_result"
    },
    {
     "data": {
      "image/png": "[encoded data removed]",
      "text/plain": [
       "<Figure size 720x720 with 2 Axes>"
      ]
     },
     "metadata": {
      "needs_background": "light"
     },
     "output_type": "display_data"
    }
   ],
   "source": [
    "target_col = ['강간검거율','강도검거율','살인검거율','절도검거율','폭력검거율'] \n",
    "\n",
    "plt.figure(figsize = (10,10))\n",
    "sns.heatmap(crime_final_norm_sort[target_col], annot=True, fmt = 'f', linewidths = .5)\n",
    "plt.title(\"범죄 검거 비율 (정규화된 검거의 합으로 정렬)\")\n",
    "plt.show()"
   ]
  },
  {
   "cell_type": "code",
   "execution_count": 34,
   "metadata": {},
   "outputs": [],
   "source": [
    "#데이터 저장\n",
    "\n",
    "crime_final_norm.to_csv('../data/02. crime_in_Seoul_final.csv', sep = ',', encoding = 'utf-8')"
   ]
  },
  {
   "cell_type": "markdown",
   "metadata": {},
   "source": [
    "# 서울시 범죄율에 대한 지도 시각화 "
   ]
  },
  {
   "cell_type": "code",
   "execution_count": 35,
   "metadata": {},
   "outputs": [],
   "source": [
    "import json \n",
    "import folium\n",
    "\n",
    "geo_path = '../data/02. skorea_municipalities_geo_simple.json'\n",
    "geo_str = json.load(open(geo_path, encoding = 'utf-8'))\n",
    "# geo_str"
   ]
  },
  {
   "cell_type": "code",
   "execution_count": 36,
   "metadata": {},
   "outputs": [
    {
     "name": "stderr",
     "output_type": "stream",
     "text": [
      "/Users/Donghee/anaconda3/lib/python3.7/site-packages/folium/folium.py:415: FutureWarning: The choropleth  method has been deprecated. Instead use the new Choropleth class, which has the same arguments. See the example notebook 'GeoJSON_and_choropleth' for how to do this.\n",
      "  FutureWarning\n"
     ]
    },
    {
     "data": {
      "text/html": [
       "<div style=\"width:100%;\"><div style=\"position:relative;width:100%;height:0;padding-bottom:60%;\"><iframe src=\"data:text/html;charset=utf-8;base64,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\" style=\"position:absolute;width:100%;height:100%;left:0;top:0;border:none !important;\" allowfullscreen webkitallowfullscreen mozallowfullscreen></iframe></div></div>"
      ],
      "text/plain": [
       "<folium.folium.Map at 0x1a1bee14e0>"
      ]
     },
     "execution_count": 36,
     "metadata": {},
     "output_type": "execute_result"
    }
   ],
   "source": [
    "map = folium.Map(location = [37.5502, 126.982], zoom_start = 11, \n",
    "                tiles = 'Stamen Toner')\n",
    "map.choropleth(geo_data = geo_str, data = crime_final_norm['살인'], \n",
    "              columns = [crime_final_norm.index, crime_final_norm['살인']], \n",
    "              fill_color = 'YlGnBu',\n",
    "              key_on = 'feature.id')\n",
    "map"
   ]
  },
  {
   "cell_type": "code",
   "execution_count": 37,
   "metadata": {},
   "outputs": [
    {
     "data": {
      "text/html": [
       "<div style=\"width:100%;\"><div style=\"position:relative;width:100%;height:0;padding-bottom:60%;\"><iframe src=\"data:text/html;charset=utf-8;base64,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\" style=\"position:absolute;width:100%;height:100%;left:0;top:0;border:none !important;\" allowfullscreen webkitallowfullscreen mozallowfullscreen></iframe></div></div>"
      ],
      "text/plain": [
       "<folium.folium.Map at 0x1a1bf1ca90>"
      ]
     },
     "execution_count": 37,
     "metadata": {},
     "output_type": "execute_result"
    }
   ],
   "source": [
    "map = folium.Map(location = [37.5502, 126.982], zoom_start = 11, \n",
    "                tiles = 'Stamen Toner')\n",
    "map.choropleth(geo_data = geo_str, data = crime_final_norm['강간'], \n",
    "              columns = [crime_final_norm.index, crime_final_norm['강간']], \n",
    "              fill_color = 'YlGnBu',\n",
    "              key_on = 'feature.id')\n",
    "map"
   ]
  },
  {
   "cell_type": "code",
   "execution_count": 38,
   "metadata": {},
   "outputs": [
    {
     "data": {
      "text/html": [
       "<div style=\"width:100%;\"><div style=\"position:relative;width:100%;height:0;padding-bottom:60%;\"><iframe src=\"data:text/html;charset=utf-8;base64,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\" style=\"position:absolute;width:100%;height:100%;left:0;top:0;border:none !important;\" allowfullscreen webkitallowfullscreen mozallowfullscreen></iframe></div></div>"
      ],
      "text/plain": [
       "<folium.folium.Map at 0x1a1bf40400>"
      ]
     },
     "execution_count": 38,
     "metadata": {},
     "output_type": "execute_result"
    }
   ],
   "source": [
    "map = folium.Map(location = [37.5502, 126.982], zoom_start = 11, \n",
    "                tiles = 'Stamen Toner')\n",
    "map.choropleth(geo_data = geo_str, data = crime_final_norm['범죄수총합'], \n",
    "              columns = [crime_final_norm.index, crime_final_norm['범죄수총합']], \n",
    "              fill_color = 'YlGnBu',\n",
    "              key_on = 'feature.id')\n",
    "map"
   ]
  },
  {
   "cell_type": "code",
   "execution_count": 39,
   "metadata": {},
   "outputs": [
    {
     "data": {
      "text/html": [
       "<div style=\"width:100%;\"><div style=\"position:relative;width:100%;height:0;padding-bottom:60%;\"><iframe src=\"data:text/html;charset=utf-8;base64,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\" style=\"position:absolute;width:100%;height:100%;left:0;top:0;border:none !important;\" allowfullscreen webkitallowfullscreen mozallowfullscreen></iframe></div></div>"
      ],
      "text/plain": [
       "<folium.folium.Map at 0x1a1bf62668>"
      ]
     },
     "execution_count": 39,
     "metadata": {},
     "output_type": "execute_result"
    }
   ],
   "source": [
    "#인구수고려 인구 대비 범죄 발생 비율 알아보기 \n",
    "\n",
    "tmp_criminal = crime_final_norm['살인']/crime_final_norm['인구수']*1000000\n",
    "\n",
    "map = folium.Map(location = [37.5502,126.982], zoom_start = 11,\n",
    "                tiles = 'Stamen Toner')\n",
    "\n",
    "map.choropleth(geo_data = geo_str, data = tmp_criminal, columns = [crime_final.index, tmp_criminal],\n",
    "              fill_color = 'YlGnBu', key_on = 'feature.id')\n",
    "\n",
    "map"
   ]
  },
  {
   "cell_type": "markdown",
   "metadata": {},
   "source": [
    "# 서울시 경찰서별 검거율과 구별 범죄 발생율을 동시에 시각화하기 "
   ]
  },
  {
   "cell_type": "code",
   "execution_count": 40,
   "metadata": {},
   "outputs": [
    {
     "data": {
      "text/html": [
       "<div>\n",
       "<style scoped>\n",
       "    .dataframe tbody tr th:only-of-type {\n",
       "        vertical-align: middle;\n",
       "    }\n",
       "\n",
       "    .dataframe tbody tr th {\n",
       "        vertical-align: top;\n",
       "    }\n",
       "\n",
       "    .dataframe thead th {\n",
       "        text-align: right;\n",
       "    }\n",
       "</style>\n",
       "<table border=\"1\" class=\"dataframe\">\n",
       "  <thead>\n",
       "    <tr style=\"text-align: right;\">\n",
       "      <th></th>\n",
       "      <th>관서명</th>\n",
       "      <th>살인 발생</th>\n",
       "      <th>살인 검거</th>\n",
       "      <th>강도 발생</th>\n",
       "      <th>강도 검거</th>\n",
       "      <th>강간 발생</th>\n",
       "      <th>강간 검거</th>\n",
       "      <th>절도 발생</th>\n",
       "      <th>절도 검거</th>\n",
       "      <th>폭력 발생</th>\n",
       "      <th>폭력 검거</th>\n",
       "      <th>자치구</th>\n",
       "      <th>lat</th>\n",
       "      <th>lng</th>\n",
       "      <th>검거</th>\n",
       "    </tr>\n",
       "  </thead>\n",
       "  <tbody>\n",
       "    <tr>\n",
       "      <th>0</th>\n",
       "      <td>중부서</td>\n",
       "      <td>2</td>\n",
       "      <td>2</td>\n",
       "      <td>3</td>\n",
       "      <td>2</td>\n",
       "      <td>105</td>\n",
       "      <td>65</td>\n",
       "      <td>1395</td>\n",
       "      <td>477</td>\n",
       "      <td>1355</td>\n",
       "      <td>1170</td>\n",
       "      <td>중구</td>\n",
       "      <td>37.563646</td>\n",
       "      <td>126.989580</td>\n",
       "      <td>1.275416</td>\n",
       "    </tr>\n",
       "    <tr>\n",
       "      <th>1</th>\n",
       "      <td>종로서</td>\n",
       "      <td>3</td>\n",
       "      <td>3</td>\n",
       "      <td>6</td>\n",
       "      <td>5</td>\n",
       "      <td>115</td>\n",
       "      <td>98</td>\n",
       "      <td>1070</td>\n",
       "      <td>413</td>\n",
       "      <td>1278</td>\n",
       "      <td>1070</td>\n",
       "      <td>종로구</td>\n",
       "      <td>37.575558</td>\n",
       "      <td>126.984867</td>\n",
       "      <td>1.523847</td>\n",
       "    </tr>\n",
       "    <tr>\n",
       "      <th>2</th>\n",
       "      <td>남대문서</td>\n",
       "      <td>1</td>\n",
       "      <td>0</td>\n",
       "      <td>6</td>\n",
       "      <td>4</td>\n",
       "      <td>65</td>\n",
       "      <td>46</td>\n",
       "      <td>1153</td>\n",
       "      <td>382</td>\n",
       "      <td>869</td>\n",
       "      <td>794</td>\n",
       "      <td>중구</td>\n",
       "      <td>37.554758</td>\n",
       "      <td>126.973498</td>\n",
       "      <td>0.907372</td>\n",
       "    </tr>\n",
       "    <tr>\n",
       "      <th>3</th>\n",
       "      <td>서대문서</td>\n",
       "      <td>2</td>\n",
       "      <td>2</td>\n",
       "      <td>5</td>\n",
       "      <td>4</td>\n",
       "      <td>154</td>\n",
       "      <td>124</td>\n",
       "      <td>1812</td>\n",
       "      <td>738</td>\n",
       "      <td>2056</td>\n",
       "      <td>1711</td>\n",
       "      <td>서대문구</td>\n",
       "      <td>37.564785</td>\n",
       "      <td>126.966776</td>\n",
       "      <td>1.978299</td>\n",
       "    </tr>\n",
       "    <tr>\n",
       "      <th>4</th>\n",
       "      <td>혜화서</td>\n",
       "      <td>3</td>\n",
       "      <td>2</td>\n",
       "      <td>5</td>\n",
       "      <td>4</td>\n",
       "      <td>96</td>\n",
       "      <td>63</td>\n",
       "      <td>1114</td>\n",
       "      <td>424</td>\n",
       "      <td>1015</td>\n",
       "      <td>861</td>\n",
       "      <td>종로구</td>\n",
       "      <td>37.571853</td>\n",
       "      <td>126.998914</td>\n",
       "      <td>1.198382</td>\n",
       "    </tr>\n",
       "  </tbody>\n",
       "</table>\n",
       "</div>"
      ],
      "text/plain": [
       "    관서명  살인 발생  살인 검거  강도 발생  강도 검거  강간 발생  강간 검거  절도 발생  절도 검거  폭력 발생  폭력 검거  \\\n",
       "0   중부서      2      2      3      2    105     65   1395    477   1355   1170   \n",
       "1   종로서      3      3      6      5    115     98   1070    413   1278   1070   \n",
       "2  남대문서      1      0      6      4     65     46   1153    382    869    794   \n",
       "3  서대문서      2      2      5      4    154    124   1812    738   2056   1711   \n",
       "4   혜화서      3      2      5      4     96     63   1114    424   1015    861   \n",
       "\n",
       "    자치구        lat         lng        검거  \n",
       "0    중구  37.563646  126.989580  1.275416  \n",
       "1   종로구  37.575558  126.984867  1.523847  \n",
       "2    중구  37.554758  126.973498  0.907372  \n",
       "3  서대문구  37.564785  126.966776  1.978299  \n",
       "4   종로구  37.571853  126.998914  1.198382  "
      ]
     },
     "execution_count": 40,
     "metadata": {},
     "output_type": "execute_result"
    }
   ],
   "source": [
    "crime_data_updated['lat'] = station_lat\n",
    "crime_data_updated['lng'] = station_lng\n",
    "\n",
    "col = ['살인 검거', '강도 검거','강간 검거','절도 검거','폭력 검거']\n",
    "tmp = crime_data_updated[col]/crime_data_updated[col].max()\n",
    "\n",
    "crime_data_updated['검거'] = np.sum(tmp, axis = 1)\n",
    "\n",
    "crime_data_updated.head()"
   ]
  },
  {
   "cell_type": "code",
   "execution_count": 41,
   "metadata": {},
   "outputs": [
    {
     "data": {
      "text/plain": [
       "<folium.map.Marker at 0x1a1bf6be10>"
      ]
     },
     "execution_count": 41,
     "metadata": {},
     "output_type": "execute_result"
    },
    {
     "data": {
      "text/plain": [
       "<folium.map.Marker at 0x1a1bf6be48>"
      ]
     },
     "execution_count": 41,
     "metadata": {},
     "output_type": "execute_result"
    },
    {
     "data": {
      "text/plain": [
       "<folium.map.Marker at 0x1a1bf6b9e8>"
      ]
     },
     "execution_count": 41,
     "metadata": {},
     "output_type": "execute_result"
    },
    {
     "data": {
      "text/plain": [
       "<folium.map.Marker at 0x1a1bf6b940>"
      ]
     },
     "execution_count": 41,
     "metadata": {},
     "output_type": "execute_result"
    },
    {
     "data": {
      "text/plain": [
       "<folium.map.Marker at 0x1a1bf6b5f8>"
      ]
     },
     "execution_count": 41,
     "metadata": {},
     "output_type": "execute_result"
    },
    {
     "data": {
      "text/plain": [
       "<folium.map.Marker at 0x1a1bf6b7f0>"
      ]
     },
     "execution_count": 41,
     "metadata": {},
     "output_type": "execute_result"
    },
    {
     "data": {
      "text/plain": [
       "<folium.map.Marker at 0x1a1bf6b828>"
      ]
     },
     "execution_count": 41,
     "metadata": {},
     "output_type": "execute_result"
    },
    {
     "data": {
      "text/plain": [
       "<folium.map.Marker at 0x1a1bf6b9b0>"
      ]
     },
     "execution_count": 41,
     "metadata": {},
     "output_type": "execute_result"
    },
    {
     "data": {
      "text/plain": [
       "<folium.map.Marker at 0x1a1bf6ba20>"
      ]
     },
     "execution_count": 41,
     "metadata": {},
     "output_type": "execute_result"
    },
    {
     "data": {
      "text/plain": [
       "<folium.map.Marker at 0x1a1bf6ba58>"
      ]
     },
     "execution_count": 41,
     "metadata": {},
     "output_type": "execute_result"
    },
    {
     "data": {
      "text/plain": [
       "<folium.map.Marker at 0x1a1bf6b710>"
      ]
     },
     "execution_count": 41,
     "metadata": {},
     "output_type": "execute_result"
    },
    {
     "data": {
      "text/plain": [
       "<folium.map.Marker at 0x1a1bf6b588>"
      ]
     },
     "execution_count": 41,
     "metadata": {},
     "output_type": "execute_result"
    },
    {
     "data": {
      "text/plain": [
       "<folium.map.Marker at 0x1a1bf6bc18>"
      ]
     },
     "execution_count": 41,
     "metadata": {},
     "output_type": "execute_result"
    },
    {
     "data": {
      "text/plain": [
       "<folium.map.Marker at 0x1a1bf6b860>"
      ]
     },
     "execution_count": 41,
     "metadata": {},
     "output_type": "execute_result"
    },
    {
     "data": {
      "text/plain": [
       "<folium.map.Marker at 0x1a1bf6b780>"
      ]
     },
     "execution_count": 41,
     "metadata": {},
     "output_type": "execute_result"
    },
    {
     "data": {
      "text/plain": [
       "<folium.map.Marker at 0x1a1bf6bba8>"
      ]
     },
     "execution_count": 41,
     "metadata": {},
     "output_type": "execute_result"
    },
    {
     "data": {
      "text/plain": [
       "<folium.map.Marker at 0x1a1bf6b748>"
      ]
     },
     "execution_count": 41,
     "metadata": {},
     "output_type": "execute_result"
    },
    {
     "data": {
      "text/plain": [
       "<folium.map.Marker at 0x1a1bf6bbe0>"
      ]
     },
     "execution_count": 41,
     "metadata": {},
     "output_type": "execute_result"
    },
    {
     "data": {
      "text/plain": [
       "<folium.map.Marker at 0x1a1bf6b8d0>"
      ]
     },
     "execution_count": 41,
     "metadata": {},
     "output_type": "execute_result"
    },
    {
     "data": {
      "text/plain": [
       "<folium.map.Marker at 0x1a1bf6b978>"
      ]
     },
     "execution_count": 41,
     "metadata": {},
     "output_type": "execute_result"
    },
    {
     "data": {
      "text/plain": [
       "<folium.map.Marker at 0x1a1bf6b518>"
      ]
     },
     "execution_count": 41,
     "metadata": {},
     "output_type": "execute_result"
    },
    {
     "data": {
      "text/plain": [
       "<folium.map.Marker at 0x1a1bf6b4e0>"
      ]
     },
     "execution_count": 41,
     "metadata": {},
     "output_type": "execute_result"
    },
    {
     "data": {
      "text/plain": [
       "<folium.map.Marker at 0x1a1bf6b6a0>"
      ]
     },
     "execution_count": 41,
     "metadata": {},
     "output_type": "execute_result"
    },
    {
     "data": {
      "text/plain": [
       "<folium.map.Marker at 0x1a1bf6bb70>"
      ]
     },
     "execution_count": 41,
     "metadata": {},
     "output_type": "execute_result"
    },
    {
     "data": {
      "text/plain": [
       "<folium.map.Marker at 0x1a1bf6b898>"
      ]
     },
     "execution_count": 41,
     "metadata": {},
     "output_type": "execute_result"
    },
    {
     "data": {
      "text/plain": [
       "<folium.map.Marker at 0x1a1bf6b7b8>"
      ]
     },
     "execution_count": 41,
     "metadata": {},
     "output_type": "execute_result"
    },
    {
     "data": {
      "text/plain": [
       "<folium.map.Marker at 0x116864a20>"
      ]
     },
     "execution_count": 41,
     "metadata": {},
     "output_type": "execute_result"
    },
    {
     "data": {
      "text/plain": [
       "<folium.map.Marker at 0x116864780>"
      ]
     },
     "execution_count": 41,
     "metadata": {},
     "output_type": "execute_result"
    },
    {
     "data": {
      "text/plain": [
       "<folium.map.Marker at 0x1a1bf6bb38>"
      ]
     },
     "execution_count": 41,
     "metadata": {},
     "output_type": "execute_result"
    },
    {
     "data": {
      "text/plain": [
       "<folium.map.Marker at 0x1168649b0>"
      ]
     },
     "execution_count": 41,
     "metadata": {},
     "output_type": "execute_result"
    },
    {
     "data": {
      "text/plain": [
       "<folium.map.Marker at 0x116864438>"
      ]
     },
     "execution_count": 41,
     "metadata": {},
     "output_type": "execute_result"
    },
    {
     "data": {
      "text/html": [
       "<div style=\"width:100%;\"><div style=\"position:relative;width:100%;height:0;padding-bottom:60%;\"><iframe src=\"data:text/html;charset=utf-8;base64,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\" style=\"position:absolute;width:100%;height:100%;left:0;top:0;border:none !important;\" allowfullscreen webkitallowfullscreen mozallowfullscreen></iframe></div></div>"
      ],
      "text/plain": [
       "<folium.folium.Map at 0x1a1bf6b5c0>"
      ]
     },
     "execution_count": 41,
     "metadata": {},
     "output_type": "execute_result"
    }
   ],
   "source": [
    "#경찰서의 위도와 경도 정보 이용하여 경찰서 위치 확인\n",
    "\n",
    "map = folium.Map(location = [37.5502,126.982], zoom_start = 11)\n",
    "\n",
    "for n in crime_data_updated.index:\n",
    "    folium.Marker([crime_data_updated['lat'][n], crime_data_updated['lng'][n]]).add_to(map)\n",
    "   \n",
    "map\n",
    "    "
   ]
  },
  {
   "cell_type": "code",
   "execution_count": 42,
   "metadata": {},
   "outputs": [
    {
     "data": {
      "text/plain": [
       "<folium.vector_layers.CircleMarker at 0x1a1bfa9160>"
      ]
     },
     "execution_count": 42,
     "metadata": {},
     "output_type": "execute_result"
    },
    {
     "data": {
      "text/plain": [
       "<folium.vector_layers.CircleMarker at 0x1a1bf9be80>"
      ]
     },
     "execution_count": 42,
     "metadata": {},
     "output_type": "execute_result"
    },
    {
     "data": {
      "text/plain": [
       "<folium.vector_layers.CircleMarker at 0x1a1bfa90b8>"
      ]
     },
     "execution_count": 42,
     "metadata": {},
     "output_type": "execute_result"
    },
    {
     "data": {
      "text/plain": [
       "<folium.vector_layers.CircleMarker at 0x1a1bfa95c0>"
      ]
     },
     "execution_count": 42,
     "metadata": {},
     "output_type": "execute_result"
    },
    {
     "data": {
      "text/plain": [
       "<folium.vector_layers.CircleMarker at 0x1a1bfa92b0>"
      ]
     },
     "execution_count": 42,
     "metadata": {},
     "output_type": "execute_result"
    },
    {
     "data": {
      "text/plain": [
       "<folium.vector_layers.CircleMarker at 0x1a1bfa95f8>"
      ]
     },
     "execution_count": 42,
     "metadata": {},
     "output_type": "execute_result"
    },
    {
     "data": {
      "text/plain": [
       "<folium.vector_layers.CircleMarker at 0x1a1bfa9128>"
      ]
     },
     "execution_count": 42,
     "metadata": {},
     "output_type": "execute_result"
    },
    {
     "data": {
      "text/plain": [
       "<folium.vector_layers.CircleMarker at 0x1a1bfa9390>"
      ]
     },
     "execution_count": 42,
     "metadata": {},
     "output_type": "execute_result"
    },
    {
     "data": {
      "text/plain": [
       "<folium.vector_layers.CircleMarker at 0x1a1bfa9710>"
      ]
     },
     "execution_count": 42,
     "metadata": {},
     "output_type": "execute_result"
    },
    {
     "data": {
      "text/plain": [
       "<folium.vector_layers.CircleMarker at 0x1a1bfa93c8>"
      ]
     },
     "execution_count": 42,
     "metadata": {},
     "output_type": "execute_result"
    },
    {
     "data": {
      "text/plain": [
       "<folium.vector_layers.CircleMarker at 0x1a1bfa9748>"
      ]
     },
     "execution_count": 42,
     "metadata": {},
     "output_type": "execute_result"
    },
    {
     "data": {
      "text/plain": [
       "<folium.vector_layers.CircleMarker at 0x1a1bfa91d0>"
      ]
     },
     "execution_count": 42,
     "metadata": {},
     "output_type": "execute_result"
    },
    {
     "data": {
      "text/plain": [
       "<folium.vector_layers.CircleMarker at 0x1a1bfa97f0>"
      ]
     },
     "execution_count": 42,
     "metadata": {},
     "output_type": "execute_result"
    },
    {
     "data": {
      "text/plain": [
       "<folium.vector_layers.CircleMarker at 0x1a1bfa9828>"
      ]
     },
     "execution_count": 42,
     "metadata": {},
     "output_type": "execute_result"
    },
    {
     "data": {
      "text/plain": [
       "<folium.vector_layers.CircleMarker at 0x1a1bfa9278>"
      ]
     },
     "execution_count": 42,
     "metadata": {},
     "output_type": "execute_result"
    },
    {
     "data": {
      "text/plain": [
       "<folium.vector_layers.CircleMarker at 0x1a1bfa9898>"
      ]
     },
     "execution_count": 42,
     "metadata": {},
     "output_type": "execute_result"
    },
    {
     "data": {
      "text/plain": [
       "<folium.vector_layers.CircleMarker at 0x1a1bfa9908>"
      ]
     },
     "execution_count": 42,
     "metadata": {},
     "output_type": "execute_result"
    },
    {
     "data": {
      "text/plain": [
       "<folium.vector_layers.CircleMarker at 0x1a1bfa98d0>"
      ]
     },
     "execution_count": 42,
     "metadata": {},
     "output_type": "execute_result"
    },
    {
     "data": {
      "text/plain": [
       "<folium.vector_layers.CircleMarker at 0x1a1bfa9940>"
      ]
     },
     "execution_count": 42,
     "metadata": {},
     "output_type": "execute_result"
    },
    {
     "data": {
      "text/plain": [
       "<folium.vector_layers.CircleMarker at 0x1a1bfa9630>"
      ]
     },
     "execution_count": 42,
     "metadata": {},
     "output_type": "execute_result"
    },
    {
     "data": {
      "text/plain": [
       "<folium.vector_layers.CircleMarker at 0x1a1bfa9400>"
      ]
     },
     "execution_count": 42,
     "metadata": {},
     "output_type": "execute_result"
    },
    {
     "data": {
      "text/plain": [
       "<folium.vector_layers.CircleMarker at 0x1a1bfa99e8>"
      ]
     },
     "execution_count": 42,
     "metadata": {},
     "output_type": "execute_result"
    },
    {
     "data": {
      "text/plain": [
       "<folium.vector_layers.CircleMarker at 0x1a1bfa9a20>"
      ]
     },
     "execution_count": 42,
     "metadata": {},
     "output_type": "execute_result"
    },
    {
     "data": {
      "text/plain": [
       "<folium.vector_layers.CircleMarker at 0x1a1bf40f28>"
      ]
     },
     "execution_count": 42,
     "metadata": {},
     "output_type": "execute_result"
    },
    {
     "data": {
      "text/plain": [
       "<folium.vector_layers.CircleMarker at 0x1a1bf40ba8>"
      ]
     },
     "execution_count": 42,
     "metadata": {},
     "output_type": "execute_result"
    },
    {
     "data": {
      "text/plain": [
       "<folium.vector_layers.CircleMarker at 0x1a1bf40518>"
      ]
     },
     "execution_count": 42,
     "metadata": {},
     "output_type": "execute_result"
    },
    {
     "data": {
      "text/plain": [
       "<folium.vector_layers.CircleMarker at 0x1a1bf40668>"
      ]
     },
     "execution_count": 42,
     "metadata": {},
     "output_type": "execute_result"
    },
    {
     "data": {
      "text/plain": [
       "<folium.vector_layers.CircleMarker at 0x1a1bf40438>"
      ]
     },
     "execution_count": 42,
     "metadata": {},
     "output_type": "execute_result"
    },
    {
     "data": {
      "text/plain": [
       "<folium.vector_layers.CircleMarker at 0x1a1bf405c0>"
      ]
     },
     "execution_count": 42,
     "metadata": {},
     "output_type": "execute_result"
    },
    {
     "data": {
      "text/plain": [
       "<folium.vector_layers.CircleMarker at 0x1a1bf40588>"
      ]
     },
     "execution_count": 42,
     "metadata": {},
     "output_type": "execute_result"
    },
    {
     "data": {
      "text/plain": [
       "<folium.vector_layers.CircleMarker at 0x1a1bfa9320>"
      ]
     },
     "execution_count": 42,
     "metadata": {},
     "output_type": "execute_result"
    },
    {
     "data": {
      "text/html": [
       "<div style=\"width:100%;\"><div style=\"position:relative;width:100%;height:0;padding-bottom:60%;\"><iframe src=\"data:text/html;charset=utf-8;base64,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\" style=\"position:absolute;width:100%;height:100%;left:0;top:0;border:none !important;\" allowfullscreen webkitallowfullscreen mozallowfullscreen></iframe></div></div>"
      ],
      "text/plain": [
       "<folium.folium.Map at 0x1a1bf9bd68>"
      ]
     },
     "execution_count": 42,
     "metadata": {},
     "output_type": "execute_result"
    }
   ],
   "source": [
    "#검거율을 원의 넓이로 표현\n",
    "\n",
    "map = folium.Map(location = [37.5502, 126.982], zoom_start = 11)\n",
    "\n",
    "for n in crime_data_updated.index:\n",
    "    folium.CircleMarker([crime_data_updated['lat'][n], crime_data_updated['lng'][n]],\n",
    "                       radius = crime_data_updated['검거'][n]*10, \n",
    "                        color = '#3186cc', fill_color = '#3186cc').add_to(map)\n",
    "map"
   ]
  },
  {
   "cell_type": "code",
   "execution_count": 43,
   "metadata": {},
   "outputs": [
    {
     "data": {
      "text/plain": [
       "<folium.vector_layers.CircleMarker at 0x1a1bfebdd8>"
      ]
     },
     "execution_count": 43,
     "metadata": {},
     "output_type": "execute_result"
    },
    {
     "data": {
      "text/plain": [
       "<folium.vector_layers.CircleMarker at 0x1a1bfebef0>"
      ]
     },
     "execution_count": 43,
     "metadata": {},
     "output_type": "execute_result"
    },
    {
     "data": {
      "text/plain": [
       "<folium.vector_layers.CircleMarker at 0x1a1bfebd68>"
      ]
     },
     "execution_count": 43,
     "metadata": {},
     "output_type": "execute_result"
    },
    {
     "data": {
      "text/plain": [
       "<folium.vector_layers.CircleMarker at 0x1a1bfeb8d0>"
      ]
     },
     "execution_count": 43,
     "metadata": {},
     "output_type": "execute_result"
    },
    {
     "data": {
      "text/plain": [
       "<folium.vector_layers.CircleMarker at 0x1a1bfeb940>"
      ]
     },
     "execution_count": 43,
     "metadata": {},
     "output_type": "execute_result"
    },
    {
     "data": {
      "text/plain": [
       "<folium.vector_layers.CircleMarker at 0x1a1bfebbe0>"
      ]
     },
     "execution_count": 43,
     "metadata": {},
     "output_type": "execute_result"
    },
    {
     "data": {
      "text/plain": [
       "<folium.vector_layers.CircleMarker at 0x1a1bfeb978>"
      ]
     },
     "execution_count": 43,
     "metadata": {},
     "output_type": "execute_result"
    },
    {
     "data": {
      "text/plain": [
       "<folium.vector_layers.CircleMarker at 0x1a1bfeb5c0>"
      ]
     },
     "execution_count": 43,
     "metadata": {},
     "output_type": "execute_result"
    },
    {
     "data": {
      "text/plain": [
       "<folium.vector_layers.CircleMarker at 0x1a1bfeb5f8>"
      ]
     },
     "execution_count": 43,
     "metadata": {},
     "output_type": "execute_result"
    },
    {
     "data": {
      "text/plain": [
       "<folium.vector_layers.CircleMarker at 0x1a1bfebc88>"
      ]
     },
     "execution_count": 43,
     "metadata": {},
     "output_type": "execute_result"
    },
    {
     "data": {
      "text/plain": [
       "<folium.vector_layers.CircleMarker at 0x1a1bfebcf8>"
      ]
     },
     "execution_count": 43,
     "metadata": {},
     "output_type": "execute_result"
    },
    {
     "data": {
      "text/plain": [
       "<folium.vector_layers.CircleMarker at 0x1a1bfeb6a0>"
      ]
     },
     "execution_count": 43,
     "metadata": {},
     "output_type": "execute_result"
    },
    {
     "data": {
      "text/plain": [
       "<folium.vector_layers.CircleMarker at 0x1a1bfeb6d8>"
      ]
     },
     "execution_count": 43,
     "metadata": {},
     "output_type": "execute_result"
    },
    {
     "data": {
      "text/plain": [
       "<folium.vector_layers.CircleMarker at 0x1a1bfebd30>"
      ]
     },
     "execution_count": 43,
     "metadata": {},
     "output_type": "execute_result"
    },
    {
     "data": {
      "text/plain": [
       "<folium.vector_layers.CircleMarker at 0x1a1bfeb748>"
      ]
     },
     "execution_count": 43,
     "metadata": {},
     "output_type": "execute_result"
    },
    {
     "data": {
      "text/plain": [
       "<folium.vector_layers.CircleMarker at 0x1a1bfebeb8>"
      ]
     },
     "execution_count": 43,
     "metadata": {},
     "output_type": "execute_result"
    },
    {
     "data": {
      "text/plain": [
       "<folium.vector_layers.CircleMarker at 0x1a1bfeb588>"
      ]
     },
     "execution_count": 43,
     "metadata": {},
     "output_type": "execute_result"
    },
    {
     "data": {
      "text/plain": [
       "<folium.vector_layers.CircleMarker at 0x1a1bfebc18>"
      ]
     },
     "execution_count": 43,
     "metadata": {},
     "output_type": "execute_result"
    },
    {
     "data": {
      "text/plain": [
       "<folium.vector_layers.CircleMarker at 0x1a1bfeb278>"
      ]
     },
     "execution_count": 43,
     "metadata": {},
     "output_type": "execute_result"
    },
    {
     "data": {
      "text/plain": [
       "<folium.vector_layers.CircleMarker at 0x1a1bfebe10>"
      ]
     },
     "execution_count": 43,
     "metadata": {},
     "output_type": "execute_result"
    },
    {
     "data": {
      "text/plain": [
       "<folium.vector_layers.CircleMarker at 0x1a1bfeb2e8>"
      ]
     },
     "execution_count": 43,
     "metadata": {},
     "output_type": "execute_result"
    },
    {
     "data": {
      "text/plain": [
       "<folium.vector_layers.CircleMarker at 0x1a1bfeb320>"
      ]
     },
     "execution_count": 43,
     "metadata": {},
     "output_type": "execute_result"
    },
    {
     "data": {
      "text/plain": [
       "<folium.vector_layers.CircleMarker at 0x1a1bfeb2b0>"
      ]
     },
     "execution_count": 43,
     "metadata": {},
     "output_type": "execute_result"
    },
    {
     "data": {
      "text/plain": [
       "<folium.vector_layers.CircleMarker at 0x1a1bfeb390>"
      ]
     },
     "execution_count": 43,
     "metadata": {},
     "output_type": "execute_result"
    },
    {
     "data": {
      "text/plain": [
       "<folium.vector_layers.CircleMarker at 0x1a1bfebb70>"
      ]
     },
     "execution_count": 43,
     "metadata": {},
     "output_type": "execute_result"
    },
    {
     "data": {
      "text/plain": [
       "<folium.vector_layers.CircleMarker at 0x1a1bfeb240>"
      ]
     },
     "execution_count": 43,
     "metadata": {},
     "output_type": "execute_result"
    },
    {
     "data": {
      "text/plain": [
       "<folium.vector_layers.CircleMarker at 0x1a1bfeb3c8>"
      ]
     },
     "execution_count": 43,
     "metadata": {},
     "output_type": "execute_result"
    },
    {
     "data": {
      "text/plain": [
       "<folium.vector_layers.CircleMarker at 0x1a1bfeb780>"
      ]
     },
     "execution_count": 43,
     "metadata": {},
     "output_type": "execute_result"
    },
    {
     "data": {
      "text/plain": [
       "<folium.vector_layers.CircleMarker at 0x1a1bfebc50>"
      ]
     },
     "execution_count": 43,
     "metadata": {},
     "output_type": "execute_result"
    },
    {
     "data": {
      "text/plain": [
       "<folium.vector_layers.CircleMarker at 0x1a1bfebba8>"
      ]
     },
     "execution_count": 43,
     "metadata": {},
     "output_type": "execute_result"
    },
    {
     "data": {
      "text/plain": [
       "<folium.vector_layers.CircleMarker at 0x1a1bfeb048>"
      ]
     },
     "execution_count": 43,
     "metadata": {},
     "output_type": "execute_result"
    },
    {
     "data": {
      "text/html": [
       "<div style=\"width:100%;\"><div style=\"position:relative;width:100%;height:0;padding-bottom:60%;\"><iframe src=\"data:text/html;charset=utf-8;base64,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\" style=\"position:absolute;width:100%;height:100%;left:0;top:0;border:none !important;\" allowfullscreen webkitallowfullscreen mozallowfullscreen></iframe></div></div>"
      ],
      "text/plain": [
       "<folium.folium.Map at 0x1a1bfc39b0>"
      ]
     },
     "execution_count": 43,
     "metadata": {},
     "output_type": "execute_result"
    }
   ],
   "source": [
    "# 범죄 발생 건수 넣기 \n",
    "\n",
    "map = folium.Map(location = [37.5502, 126.982], zoom_start = 11)\n",
    "\n",
    "\n",
    "map.choropleth(geo_data = geo_str, \n",
    "              data = crime_final_norm['범죄수총합'],\n",
    "              columns = [crime_final_norm.index, crime_final_norm['범죄수총합']],\n",
    "              fill_color = 'PuRd',\n",
    "              key_on = 'feature.id')\n",
    "\n",
    "for n in crime_data_updated.index:\n",
    "    folium.CircleMarker([crime_data_updated['lat'][n], crime_data_updated['lng'][n]],\n",
    "                       radius = crime_data_updated['검거'][n]*10, \n",
    "                        color = '#3186cc', fill_color = '#3186cc').add_to(map)\n",
    "map"
   ]
  }
 ],
 "metadata": {
  "kernelspec": {
   "display_name": "Python 3",
   "language": "python",
   "name": "python3"
  },
  "language_info": {
   "codemirror_mode": {
    "name": "ipython",
    "version": 3
   },
   "file_extension": ".py",
   "mimetype": "text/x-python",
   "name": "python",
   "nbconvert_exporter": "python",
   "pygments_lexer": "ipython3",
   "version": "3.7.3"
  }
 },
 "nbformat": 4,
 "nbformat_minor": 2
}
